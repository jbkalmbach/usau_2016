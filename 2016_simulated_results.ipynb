{
 "cells": [
  {
   "cell_type": "markdown",
   "metadata": {},
   "source": [
    "#Predicting the 2016 USAU College Open Nationals Tournament"
   ]
  },
  {
   "cell_type": "code",
   "execution_count": 1,
   "metadata": {
    "collapsed": true
   },
   "outputs": [],
   "source": [
    "import pandas as pd\n",
    "import numpy as np\n",
    "from IPython.display import display, HTML"
   ]
  },
  {
   "cell_type": "code",
   "execution_count": 2,
   "metadata": {
    "collapsed": false
   },
   "outputs": [],
   "source": [
    "ratings = pd.read_csv('2016_reg_season_ratings.dat', delimiter=',', names=('School', 'Rating'))"
   ]
  },
  {
   "cell_type": "markdown",
   "metadata": {},
   "source": [
    "###Regular Season Top 50 Bradley-Terry Ratings\n",
    "\n",
    "These ratings were compiled from the dataset found at http://www.ultimaterankings.net/. Unfortunately, it only contains regular season results and no results from CC or Regional tournaments, but should still be an interesting dataset to inform us about the strengths of each team at Nationals. I computed a Bradley-Terry rating for each team's regular season and ranked them following the algorithm described in http://ultiworld.com/2015/09/03/a-new-rankings-approach-for-ultimate-ideas-from-college-hockey/. The top 50 teams are displayed in the table below and contains all teams going to Nationals.\n",
    "\n",
    "After this table are predictions for Nationals based upon the win probabilities that Bradley-Terry ratings provide. I used the Nationals schedule and ratings from the regular season to simulate the tournament 10,000 times and get the predictions in the tables following."
   ]
  },
  {
   "cell_type": "code",
   "execution_count": 3,
   "metadata": {
    "collapsed": false
   },
   "outputs": [
    {
     "data": {
      "text/html": [
       "<div style=\"max-height:1000px;max-width:1500px;overflow:auto;\">\n",
       "<table border=\"1\" class=\"dataframe\">\n",
       "  <thead>\n",
       "    <tr style=\"text-align: right;\">\n",
       "      <th></th>\n",
       "      <th>School</th>\n",
       "      <th>Rating</th>\n",
       "    </tr>\n",
       "  </thead>\n",
       "  <tbody>\n",
       "    <tr>\n",
       "      <th>1 </th>\n",
       "      <td>                   Massachusetts (Zoodisc)</td>\n",
       "      <td> 3.93175098471</td>\n",
       "    </tr>\n",
       "    <tr>\n",
       "      <th>2 </th>\n",
       "      <td>                     Minnesota (Grey Duck)</td>\n",
       "      <td>  3.5112111374</td>\n",
       "    </tr>\n",
       "    <tr>\n",
       "      <th>3 </th>\n",
       "      <td>                        Wisconsin (Hodags)</td>\n",
       "      <td> 3.49247859968</td>\n",
       "    </tr>\n",
       "    <tr>\n",
       "      <th>4 </th>\n",
       "      <td>                 Pittsburgh (En Sabah Nur)</td>\n",
       "      <td> 3.22089833103</td>\n",
       "    </tr>\n",
       "    <tr>\n",
       "      <th>5 </th>\n",
       "      <td>                 North Carolina (Darkside)</td>\n",
       "      <td> 3.19484400972</td>\n",
       "    </tr>\n",
       "    <tr>\n",
       "      <th>6 </th>\n",
       "      <td>          Stanford (Stanford Bloodthirsty)</td>\n",
       "      <td> 3.11534957695</td>\n",
       "    </tr>\n",
       "    <tr>\n",
       "      <th>7 </th>\n",
       "      <td>                              Oregon (Ego)</td>\n",
       "      <td> 3.04958772128</td>\n",
       "    </tr>\n",
       "    <tr>\n",
       "      <th>8 </th>\n",
       "      <td>                         Florida (Florida)</td>\n",
       "      <td> 3.04248629991</td>\n",
       "    </tr>\n",
       "    <tr>\n",
       "      <th>9 </th>\n",
       "      <td>        North Carolina-Wilmington (Seamen)</td>\n",
       "      <td> 2.95001629926</td>\n",
       "    </tr>\n",
       "    <tr>\n",
       "      <th>10</th>\n",
       "      <td>           British Columbia (Thunderbirds)</td>\n",
       "      <td>  2.7012249931</td>\n",
       "    </tr>\n",
       "    <tr>\n",
       "      <th>11</th>\n",
       "      <td>                        Harvard (Red Line)</td>\n",
       "      <td> 2.65775323639</td>\n",
       "    </tr>\n",
       "    <tr>\n",
       "      <th>12</th>\n",
       "      <td> Carleton College (Carleton College (CUT))</td>\n",
       "      <td> 2.60970252161</td>\n",
       "    </tr>\n",
       "    <tr>\n",
       "      <th>13</th>\n",
       "      <td>                   Washington (Sundodgers)</td>\n",
       "      <td> 2.59454709927</td>\n",
       "    </tr>\n",
       "    <tr>\n",
       "      <th>14</th>\n",
       "      <td>                       Colorado (Mamabird)</td>\n",
       "      <td> 2.56448225152</td>\n",
       "    </tr>\n",
       "    <tr>\n",
       "      <th>15</th>\n",
       "      <td>                           Georgia (Jojah)</td>\n",
       "      <td> 2.55849469168</td>\n",
       "    </tr>\n",
       "    <tr>\n",
       "      <th>16</th>\n",
       "      <td>                       Brigham Young (CHI)</td>\n",
       "      <td> 2.54971773854</td>\n",
       "    </tr>\n",
       "    <tr>\n",
       "      <th>17</th>\n",
       "      <td>                         Texas A&amp;M (Dozen)</td>\n",
       "      <td> 2.45935859327</td>\n",
       "    </tr>\n",
       "    <tr>\n",
       "      <th>18</th>\n",
       "      <td>                Arkansas (Ludicrous Speed)</td>\n",
       "      <td> 2.39230838674</td>\n",
       "    </tr>\n",
       "    <tr>\n",
       "      <th>19</th>\n",
       "      <td>                    Ohio State (Leadbelly)</td>\n",
       "      <td>  2.3598919666</td>\n",
       "    </tr>\n",
       "    <tr>\n",
       "      <th>20</th>\n",
       "      <td>                    Cal Poly-SLO (SLOCORE)</td>\n",
       "      <td> 2.31855160456</td>\n",
       "    </tr>\n",
       "    <tr>\n",
       "      <th>21</th>\n",
       "      <td>                              Texas (TUFF)</td>\n",
       "      <td> 2.26602703659</td>\n",
       "    </tr>\n",
       "    <tr>\n",
       "      <th>22</th>\n",
       "      <td>                         Michigan (MagnUM)</td>\n",
       "      <td> 2.24147786059</td>\n",
       "    </tr>\n",
       "    <tr>\n",
       "      <th>23</th>\n",
       "      <td>     California-Santa Barbara (Black Tide)</td>\n",
       "      <td> 2.22650320299</td>\n",
       "    </tr>\n",
       "    <tr>\n",
       "      <th>24</th>\n",
       "      <td>                            Auburn (Aetos)</td>\n",
       "      <td>  2.2056200381</td>\n",
       "    </tr>\n",
       "    <tr>\n",
       "      <th>25</th>\n",
       "      <td>                       Florida State (DUF)</td>\n",
       "      <td> 2.18364359487</td>\n",
       "    </tr>\n",
       "    <tr>\n",
       "      <th>26</th>\n",
       "      <td>                        Penn State (Spank)</td>\n",
       "      <td> 2.18291612042</td>\n",
       "    </tr>\n",
       "    <tr>\n",
       "      <th>27</th>\n",
       "      <td>                      Virginia Tech (Burn)</td>\n",
       "      <td> 2.17458085279</td>\n",
       "    </tr>\n",
       "    <tr>\n",
       "      <th>28</th>\n",
       "      <td>             Central Florida (Dogs of War)</td>\n",
       "      <td> 2.15702648149</td>\n",
       "    </tr>\n",
       "    <tr>\n",
       "      <th>29</th>\n",
       "      <td>                          Victoria (Vikes)</td>\n",
       "      <td> 2.14805120393</td>\n",
       "    </tr>\n",
       "    <tr>\n",
       "      <th>30</th>\n",
       "      <td>         California-San Diego (Air Squids)</td>\n",
       "      <td> 2.06769103732</td>\n",
       "    </tr>\n",
       "    <tr>\n",
       "      <th>31</th>\n",
       "      <td>                   Colorado State (Hibida)</td>\n",
       "      <td> 2.02860733783</td>\n",
       "    </tr>\n",
       "    <tr>\n",
       "      <th>32</th>\n",
       "      <td>                  James Madison (Hellfish)</td>\n",
       "      <td> 2.00892081382</td>\n",
       "    </tr>\n",
       "    <tr>\n",
       "      <th>33</th>\n",
       "      <td>                 Western Washington (Dirt)</td>\n",
       "      <td> 1.99883586221</td>\n",
       "    </tr>\n",
       "    <tr>\n",
       "      <th>34</th>\n",
       "      <td>                        LSU (LSU Ultimate)</td>\n",
       "      <td> 1.98444450413</td>\n",
       "    </tr>\n",
       "    <tr>\n",
       "      <th>35</th>\n",
       "      <td>                       Missouri (Missouri)</td>\n",
       "      <td> 1.98261824712</td>\n",
       "    </tr>\n",
       "    <tr>\n",
       "      <th>36</th>\n",
       "      <td>                              Tulane (Rex)</td>\n",
       "      <td> 1.98125586913</td>\n",
       "    </tr>\n",
       "    <tr>\n",
       "      <th>37</th>\n",
       "      <td>                   Purdue (Undue Ultimate)</td>\n",
       "      <td>  1.9630566211</td>\n",
       "    </tr>\n",
       "    <tr>\n",
       "      <th>38</th>\n",
       "      <td>              Maryland (Maryland Ultimate)</td>\n",
       "      <td> 1.96060783435</td>\n",
       "    </tr>\n",
       "    <tr>\n",
       "      <th>39</th>\n",
       "      <td>                   Brown (Brownian Motion)</td>\n",
       "      <td> 1.93009115274</td>\n",
       "    </tr>\n",
       "    <tr>\n",
       "      <th>40</th>\n",
       "      <td> Case Western Reserve (Fighting Gobies[A])</td>\n",
       "      <td> 1.92965870149</td>\n",
       "    </tr>\n",
       "    <tr>\n",
       "      <th>41</th>\n",
       "      <td>                      Georgia Tech (Tribe)</td>\n",
       "      <td> 1.92181594941</td>\n",
       "    </tr>\n",
       "    <tr>\n",
       "      <th>42</th>\n",
       "      <td>                 Connecticut (UConn Grind)</td>\n",
       "      <td> 1.89998141921</td>\n",
       "    </tr>\n",
       "    <tr>\n",
       "      <th>43</th>\n",
       "      <td>          Virginia Commonwealth (Villains)</td>\n",
       "      <td> 1.83349986039</td>\n",
       "    </tr>\n",
       "    <tr>\n",
       "      <th>44</th>\n",
       "      <td>                    Oregon State (Beavers)</td>\n",
       "      <td> 1.82549926979</td>\n",
       "    </tr>\n",
       "    <tr>\n",
       "      <th>45</th>\n",
       "      <td>               Texas Christian (High Noon)</td>\n",
       "      <td> 1.77807759231</td>\n",
       "    </tr>\n",
       "    <tr>\n",
       "      <th>46</th>\n",
       "      <td>          Cincinnati (Cincinnati Ultimate)</td>\n",
       "      <td> 1.77324944688</td>\n",
       "    </tr>\n",
       "    <tr>\n",
       "      <th>47</th>\n",
       "      <td>                       Utah (Zion Curtain)</td>\n",
       "      <td> 1.76331909462</td>\n",
       "    </tr>\n",
       "    <tr>\n",
       "      <th>48</th>\n",
       "      <td>                   Notre Dame (Papal Rage)</td>\n",
       "      <td> 1.74874787545</td>\n",
       "    </tr>\n",
       "    <tr>\n",
       "      <th>49</th>\n",
       "      <td>                         Arizona (Sunburn)</td>\n",
       "      <td> 1.74311123623</td>\n",
       "    </tr>\n",
       "    <tr>\n",
       "      <th>50</th>\n",
       "      <td>                     Bryant (Bryant Craze)</td>\n",
       "      <td> 1.71618856164</td>\n",
       "    </tr>\n",
       "  </tbody>\n",
       "</table>\n",
       "</div>"
      ],
      "text/plain": [
       "                                       School         Rating\n",
       "1                     Massachusetts (Zoodisc)  3.93175098471\n",
       "2                       Minnesota (Grey Duck)   3.5112111374\n",
       "3                          Wisconsin (Hodags)  3.49247859968\n",
       "4                   Pittsburgh (En Sabah Nur)  3.22089833103\n",
       "5                   North Carolina (Darkside)  3.19484400972\n",
       "6            Stanford (Stanford Bloodthirsty)  3.11534957695\n",
       "7                                Oregon (Ego)  3.04958772128\n",
       "8                           Florida (Florida)  3.04248629991\n",
       "9          North Carolina-Wilmington (Seamen)  2.95001629926\n",
       "10            British Columbia (Thunderbirds)   2.7012249931\n",
       "11                         Harvard (Red Line)  2.65775323639\n",
       "12  Carleton College (Carleton College (CUT))  2.60970252161\n",
       "13                    Washington (Sundodgers)  2.59454709927\n",
       "14                        Colorado (Mamabird)  2.56448225152\n",
       "15                            Georgia (Jojah)  2.55849469168\n",
       "16                        Brigham Young (CHI)  2.54971773854\n",
       "17                          Texas A&M (Dozen)  2.45935859327\n",
       "18                 Arkansas (Ludicrous Speed)  2.39230838674\n",
       "19                     Ohio State (Leadbelly)   2.3598919666\n",
       "20                     Cal Poly-SLO (SLOCORE)  2.31855160456\n",
       "21                               Texas (TUFF)  2.26602703659\n",
       "22                          Michigan (MagnUM)  2.24147786059\n",
       "23      California-Santa Barbara (Black Tide)  2.22650320299\n",
       "24                             Auburn (Aetos)   2.2056200381\n",
       "25                        Florida State (DUF)  2.18364359487\n",
       "26                         Penn State (Spank)  2.18291612042\n",
       "27                       Virginia Tech (Burn)  2.17458085279\n",
       "28              Central Florida (Dogs of War)  2.15702648149\n",
       "29                           Victoria (Vikes)  2.14805120393\n",
       "30          California-San Diego (Air Squids)  2.06769103732\n",
       "31                    Colorado State (Hibida)  2.02860733783\n",
       "32                   James Madison (Hellfish)  2.00892081382\n",
       "33                  Western Washington (Dirt)  1.99883586221\n",
       "34                         LSU (LSU Ultimate)  1.98444450413\n",
       "35                        Missouri (Missouri)  1.98261824712\n",
       "36                               Tulane (Rex)  1.98125586913\n",
       "37                    Purdue (Undue Ultimate)   1.9630566211\n",
       "38               Maryland (Maryland Ultimate)  1.96060783435\n",
       "39                    Brown (Brownian Motion)  1.93009115274\n",
       "40  Case Western Reserve (Fighting Gobies[A])  1.92965870149\n",
       "41                       Georgia Tech (Tribe)  1.92181594941\n",
       "42                  Connecticut (UConn Grind)  1.89998141921\n",
       "43           Virginia Commonwealth (Villains)  1.83349986039\n",
       "44                     Oregon State (Beavers)  1.82549926979\n",
       "45                Texas Christian (High Noon)  1.77807759231\n",
       "46           Cincinnati (Cincinnati Ultimate)  1.77324944688\n",
       "47                        Utah (Zion Curtain)  1.76331909462\n",
       "48                    Notre Dame (Papal Rage)  1.74874787545\n",
       "49                          Arizona (Sunburn)  1.74311123623\n",
       "50                      Bryant (Bryant Craze)  1.71618856164"
      ]
     },
     "execution_count": 3,
     "metadata": {},
     "output_type": "execute_result"
    }
   ],
   "source": [
    "ratings[1:51]"
   ]
  },
  {
   "cell_type": "markdown",
   "metadata": {},
   "source": [
    "###Nationals Predictions"
   ]
  },
  {
   "cell_type": "code",
   "execution_count": 4,
   "metadata": {
    "collapsed": true
   },
   "outputs": [],
   "source": [
    "pool_wins = pd.read_csv('2016_pool_wins.dat', delimiter=',', names=('School', 'Wins in Pool'))"
   ]
  },
  {
   "cell_type": "code",
   "execution_count": 5,
   "metadata": {
    "collapsed": false
   },
   "outputs": [
    {
     "data": {
      "text/html": [
       "<h1>Average wins in pool over 10,000 simulations</h1>"
      ],
      "text/plain": [
       "<IPython.core.display.HTML object>"
      ]
     },
     "metadata": {},
     "output_type": "display_data"
    },
    {
     "data": {
      "text/html": [
       "<h3>Pool A</h3>"
      ],
      "text/plain": [
       "<IPython.core.display.HTML object>"
      ]
     },
     "metadata": {},
     "output_type": "display_data"
    },
    {
     "data": {
      "text/html": [
       "<table border=\"1\" class=\"dataframe\">\n",
       "  <thead>\n",
       "    <tr style=\"text-align: right;\">\n",
       "      <th>School</th>\n",
       "      <th>Wins in Pool</th>\n",
       "    </tr>\n",
       "  </thead>\n",
       "  <tbody>\n",
       "    <tr>\n",
       "      <td> Massachusetts (Zoodisc)</td>\n",
       "      <td> 3.5834</td>\n",
       "    </tr>\n",
       "    <tr>\n",
       "      <td>         Georgia (Jojah)</td>\n",
       "      <td> 1.7457</td>\n",
       "    </tr>\n",
       "    <tr>\n",
       "      <td>       Texas A&amp;M (Dozen)</td>\n",
       "      <td> 1.5603</td>\n",
       "    </tr>\n",
       "    <tr>\n",
       "      <td> Washington (Sundodgers)</td>\n",
       "      <td> 1.8346</td>\n",
       "    </tr>\n",
       "    <tr>\n",
       "      <td>  Cal Poly-SLO (SLOCORE)</td>\n",
       "      <td> 1.2760</td>\n",
       "    </tr>\n",
       "  </tbody>\n",
       "</table>"
      ],
      "text/plain": [
       "<IPython.core.display.HTML object>"
      ]
     },
     "metadata": {},
     "output_type": "display_data"
    },
    {
     "data": {
      "text/html": [
       "<h3>Pool B</h3>"
      ],
      "text/plain": [
       "<IPython.core.display.HTML object>"
      ]
     },
     "metadata": {},
     "output_type": "display_data"
    },
    {
     "data": {
      "text/html": [
       "<table border=\"1\" class=\"dataframe\">\n",
       "  <thead>\n",
       "    <tr style=\"text-align: right;\">\n",
       "      <th>School</th>\n",
       "      <th>Wins in Pool</th>\n",
       "    </tr>\n",
       "  </thead>\n",
       "  <tbody>\n",
       "    <tr>\n",
       "      <td>                              Oregon (Ego)</td>\n",
       "      <td> 2.8434</td>\n",
       "    </tr>\n",
       "    <tr>\n",
       "      <td>                 North Carolina (Darkside)</td>\n",
       "      <td> 3.0738</td>\n",
       "    </tr>\n",
       "    <tr>\n",
       "      <td>                       Colorado (Mamabird)</td>\n",
       "      <td> 2.0312</td>\n",
       "    </tr>\n",
       "    <tr>\n",
       "      <td>                       Florida State (DUF)</td>\n",
       "      <td> 1.2926</td>\n",
       "    </tr>\n",
       "    <tr>\n",
       "      <td> Case Western Reserve (Fighting Gobies[A])</td>\n",
       "      <td> 0.7590</td>\n",
       "    </tr>\n",
       "  </tbody>\n",
       "</table>"
      ],
      "text/plain": [
       "<IPython.core.display.HTML object>"
      ]
     },
     "metadata": {},
     "output_type": "display_data"
    },
    {
     "data": {
      "text/html": [
       "<h3>Pool C</h3>"
      ],
      "text/plain": [
       "<IPython.core.display.HTML object>"
      ]
     },
     "metadata": {},
     "output_type": "display_data"
    },
    {
     "data": {
      "text/html": [
       "<table border=\"1\" class=\"dataframe\">\n",
       "  <thead>\n",
       "    <tr style=\"text-align: right;\">\n",
       "      <th>School</th>\n",
       "      <th>Wins in Pool</th>\n",
       "    </tr>\n",
       "  </thead>\n",
       "  <tbody>\n",
       "    <tr>\n",
       "      <td> North Carolina-Wilmington (Seamen)</td>\n",
       "      <td> 2.6049</td>\n",
       "    </tr>\n",
       "    <tr>\n",
       "      <td>                 Wisconsin (Hodags)</td>\n",
       "      <td> 3.2964</td>\n",
       "    </tr>\n",
       "    <tr>\n",
       "      <td>                 Harvard (Red Line)</td>\n",
       "      <td> 2.1191</td>\n",
       "    </tr>\n",
       "    <tr>\n",
       "      <td>                  Michigan (MagnUM)</td>\n",
       "      <td> 1.3284</td>\n",
       "    </tr>\n",
       "    <tr>\n",
       "      <td>          Connecticut (UConn Grind)</td>\n",
       "      <td> 0.6512</td>\n",
       "    </tr>\n",
       "  </tbody>\n",
       "</table>"
      ],
      "text/plain": [
       "<IPython.core.display.HTML object>"
      ]
     },
     "metadata": {},
     "output_type": "display_data"
    },
    {
     "data": {
      "text/html": [
       "<h3>Pool D</h3>"
      ],
      "text/plain": [
       "<IPython.core.display.HTML object>"
      ]
     },
     "metadata": {},
     "output_type": "display_data"
    },
    {
     "data": {
      "text/html": [
       "<table border=\"1\" class=\"dataframe\">\n",
       "  <thead>\n",
       "    <tr style=\"text-align: right;\">\n",
       "      <th>School</th>\n",
       "      <th>Wins in Pool</th>\n",
       "    </tr>\n",
       "  </thead>\n",
       "  <tbody>\n",
       "    <tr>\n",
       "      <td>                     Minnesota (Grey Duck)</td>\n",
       "      <td> 3.2648</td>\n",
       "    </tr>\n",
       "    <tr>\n",
       "      <td>                 Pittsburgh (En Sabah Nur)</td>\n",
       "      <td> 2.9276</td>\n",
       "    </tr>\n",
       "    <tr>\n",
       "      <td> Carleton College (Carleton College (CUT))</td>\n",
       "      <td> 2.0241</td>\n",
       "    </tr>\n",
       "    <tr>\n",
       "      <td>                            Auburn (Aetos)</td>\n",
       "      <td> 1.3069</td>\n",
       "    </tr>\n",
       "    <tr>\n",
       "      <td>                       Utah (Zion Curtain)</td>\n",
       "      <td> 0.4766</td>\n",
       "    </tr>\n",
       "  </tbody>\n",
       "</table>"
      ],
      "text/plain": [
       "<IPython.core.display.HTML object>"
      ]
     },
     "metadata": {},
     "output_type": "display_data"
    }
   ],
   "source": [
    "display(HTML('<h1>Average wins in pool over 10,000 simulations</h1>'))\n",
    "display(HTML('<h3>Pool A</h3>'))\n",
    "display(HTML(pool_wins[1:6].to_html(index=False)))\n",
    "display(HTML('<h3>Pool B</h3>'))\n",
    "display(HTML(pool_wins[7:12].to_html(index=False)))\n",
    "display(HTML('<h3>Pool C</h3>'))\n",
    "display(HTML(pool_wins[13:18].to_html(index=False)))\n",
    "display(HTML('<h3>Pool D</h3>'))\n",
    "display(HTML(pool_wins[19:24].to_html(index=False)))"
   ]
  },
  {
   "cell_type": "code",
   "execution_count": 6,
   "metadata": {
    "collapsed": false
   },
   "outputs": [],
   "source": [
    "pool_placement = pd.read_csv('2016_pool_placement.dat', delimiter=',', names=('School', '1st', '2nd', '3rd', '4th', '5th'))\n",
    "pool_placement['1st'] = pool_placement['1st']*100.\n",
    "pool_placement['2nd'] = pool_placement['2nd']*100.\n",
    "pool_placement['3rd'] = pool_placement['3rd']*100.\n",
    "pool_placement['4th'] = pool_placement['4th']*100.\n",
    "pool_placement['5th'] = pool_placement['5th']*100."
   ]
  },
  {
   "cell_type": "code",
   "execution_count": 7,
   "metadata": {
    "collapsed": false
   },
   "outputs": [
    {
     "data": {
      "text/html": [
       "<h1>Predicted percent chance of final placement in pool over 10,000 simulations</h1>"
      ],
      "text/plain": [
       "<IPython.core.display.HTML object>"
      ]
     },
     "metadata": {},
     "output_type": "display_data"
    },
    {
     "data": {
      "text/html": [
       "<h3>Pool A</h3>"
      ],
      "text/plain": [
       "<IPython.core.display.HTML object>"
      ]
     },
     "metadata": {},
     "output_type": "display_data"
    },
    {
     "data": {
      "text/html": [
       "<table border=\"1\" class=\"dataframe\">\n",
       "  <thead>\n",
       "    <tr style=\"text-align: right;\">\n",
       "      <th>School</th>\n",
       "      <th>1st</th>\n",
       "      <th>2nd</th>\n",
       "      <th>3rd</th>\n",
       "      <th>4th</th>\n",
       "      <th>5th</th>\n",
       "    </tr>\n",
       "  </thead>\n",
       "  <tbody>\n",
       "    <tr>\n",
       "      <td> Massachusetts (Zoodisc)</td>\n",
       "      <td> 81.20</td>\n",
       "      <td> 14.47</td>\n",
       "      <td>  3.08</td>\n",
       "      <td>  0.95</td>\n",
       "      <td>  0.30</td>\n",
       "    </tr>\n",
       "    <tr>\n",
       "      <td>         Georgia (Jojah)</td>\n",
       "      <td>  5.65</td>\n",
       "      <td> 24.97</td>\n",
       "      <td> 26.61</td>\n",
       "      <td> 22.50</td>\n",
       "      <td> 20.27</td>\n",
       "    </tr>\n",
       "    <tr>\n",
       "      <td>       Texas A&amp;M (Dozen)</td>\n",
       "      <td>  4.15</td>\n",
       "      <td> 20.31</td>\n",
       "      <td> 24.00</td>\n",
       "      <td> 25.77</td>\n",
       "      <td> 25.77</td>\n",
       "    </tr>\n",
       "    <tr>\n",
       "      <td> Washington (Sundodgers)</td>\n",
       "      <td>  6.70</td>\n",
       "      <td> 26.92</td>\n",
       "      <td> 26.65</td>\n",
       "      <td> 22.72</td>\n",
       "      <td> 17.01</td>\n",
       "    </tr>\n",
       "    <tr>\n",
       "      <td>  Cal Poly-SLO (SLOCORE)</td>\n",
       "      <td>  2.30</td>\n",
       "      <td> 13.33</td>\n",
       "      <td> 19.66</td>\n",
       "      <td> 28.06</td>\n",
       "      <td> 36.65</td>\n",
       "    </tr>\n",
       "  </tbody>\n",
       "</table>"
      ],
      "text/plain": [
       "<IPython.core.display.HTML object>"
      ]
     },
     "metadata": {},
     "output_type": "display_data"
    },
    {
     "data": {
      "text/html": [
       "<h3>Pool B</h3>"
      ],
      "text/plain": [
       "<IPython.core.display.HTML object>"
      ]
     },
     "metadata": {},
     "output_type": "display_data"
    },
    {
     "data": {
      "text/html": [
       "<table border=\"1\" class=\"dataframe\">\n",
       "  <thead>\n",
       "    <tr style=\"text-align: right;\">\n",
       "      <th>School</th>\n",
       "      <th>1st</th>\n",
       "      <th>2nd</th>\n",
       "      <th>3rd</th>\n",
       "      <th>4th</th>\n",
       "      <th>5th</th>\n",
       "    </tr>\n",
       "  </thead>\n",
       "  <tbody>\n",
       "    <tr>\n",
       "      <td>                              Oregon (Ego)</td>\n",
       "      <td> 36.75</td>\n",
       "      <td> 36.03</td>\n",
       "      <td> 18.81</td>\n",
       "      <td>  6.27</td>\n",
       "      <td>  2.14</td>\n",
       "    </tr>\n",
       "    <tr>\n",
       "      <td>                 North Carolina (Darkside)</td>\n",
       "      <td> 48.40</td>\n",
       "      <td> 32.04</td>\n",
       "      <td> 14.05</td>\n",
       "      <td>  4.53</td>\n",
       "      <td>  0.98</td>\n",
       "    </tr>\n",
       "    <tr>\n",
       "      <td>                       Colorado (Mamabird)</td>\n",
       "      <td> 11.33</td>\n",
       "      <td> 21.07</td>\n",
       "      <td> 36.61</td>\n",
       "      <td> 21.37</td>\n",
       "      <td>  9.62</td>\n",
       "    </tr>\n",
       "    <tr>\n",
       "      <td>                       Florida State (DUF)</td>\n",
       "      <td>  2.84</td>\n",
       "      <td>  7.95</td>\n",
       "      <td> 20.79</td>\n",
       "      <td> 38.88</td>\n",
       "      <td> 29.54</td>\n",
       "    </tr>\n",
       "    <tr>\n",
       "      <td> Case Western Reserve (Fighting Gobies[A])</td>\n",
       "      <td>  0.68</td>\n",
       "      <td>  2.91</td>\n",
       "      <td>  9.74</td>\n",
       "      <td> 28.95</td>\n",
       "      <td> 57.72</td>\n",
       "    </tr>\n",
       "  </tbody>\n",
       "</table>"
      ],
      "text/plain": [
       "<IPython.core.display.HTML object>"
      ]
     },
     "metadata": {},
     "output_type": "display_data"
    },
    {
     "data": {
      "text/html": [
       "<h3>Pool C</h3>"
      ],
      "text/plain": [
       "<IPython.core.display.HTML object>"
      ]
     },
     "metadata": {},
     "output_type": "display_data"
    },
    {
     "data": {
      "text/html": [
       "<table border=\"1\" class=\"dataframe\">\n",
       "  <thead>\n",
       "    <tr style=\"text-align: right;\">\n",
       "      <th>School</th>\n",
       "      <th>1st</th>\n",
       "      <th>2nd</th>\n",
       "      <th>3rd</th>\n",
       "      <th>4th</th>\n",
       "      <th>5th</th>\n",
       "    </tr>\n",
       "  </thead>\n",
       "  <tbody>\n",
       "    <tr>\n",
       "      <td> North Carolina-Wilmington (Seamen)</td>\n",
       "      <td> 24.20</td>\n",
       "      <td> 37.78</td>\n",
       "      <td> 25.33</td>\n",
       "      <td>  9.65</td>\n",
       "      <td>  3.04</td>\n",
       "    </tr>\n",
       "    <tr>\n",
       "      <td>                 Wisconsin (Hodags)</td>\n",
       "      <td> 61.24</td>\n",
       "      <td> 26.47</td>\n",
       "      <td>  9.23</td>\n",
       "      <td>  2.68</td>\n",
       "      <td>  0.38</td>\n",
       "    </tr>\n",
       "    <tr>\n",
       "      <td>                 Harvard (Red Line)</td>\n",
       "      <td> 11.90</td>\n",
       "      <td> 25.13</td>\n",
       "      <td> 35.98</td>\n",
       "      <td> 19.50</td>\n",
       "      <td>  7.49</td>\n",
       "    </tr>\n",
       "    <tr>\n",
       "      <td>                  Michigan (MagnUM)</td>\n",
       "      <td>  2.39</td>\n",
       "      <td>  8.38</td>\n",
       "      <td> 22.05</td>\n",
       "      <td> 41.20</td>\n",
       "      <td> 25.98</td>\n",
       "    </tr>\n",
       "    <tr>\n",
       "      <td>          Connecticut (UConn Grind)</td>\n",
       "      <td>  0.27</td>\n",
       "      <td>  2.24</td>\n",
       "      <td>  7.41</td>\n",
       "      <td> 26.97</td>\n",
       "      <td> 63.11</td>\n",
       "    </tr>\n",
       "  </tbody>\n",
       "</table>"
      ],
      "text/plain": [
       "<IPython.core.display.HTML object>"
      ]
     },
     "metadata": {},
     "output_type": "display_data"
    },
    {
     "data": {
      "text/html": [
       "<h3>Pool D</h3>"
      ],
      "text/plain": [
       "<IPython.core.display.HTML object>"
      ]
     },
     "metadata": {},
     "output_type": "display_data"
    },
    {
     "data": {
      "text/html": [
       "<table border=\"1\" class=\"dataframe\">\n",
       "  <thead>\n",
       "    <tr style=\"text-align: right;\">\n",
       "      <th>School</th>\n",
       "      <th>1st</th>\n",
       "      <th>2nd</th>\n",
       "      <th>3rd</th>\n",
       "      <th>4th</th>\n",
       "      <th>5th</th>\n",
       "    </tr>\n",
       "  </thead>\n",
       "  <tbody>\n",
       "    <tr>\n",
       "      <td>                     Minnesota (Grey Duck)</td>\n",
       "      <td> 54.69</td>\n",
       "      <td> 32.70</td>\n",
       "      <td>  9.97</td>\n",
       "      <td>  2.36</td>\n",
       "      <td>  0.28</td>\n",
       "    </tr>\n",
       "    <tr>\n",
       "      <td>                 Pittsburgh (En Sabah Nur)</td>\n",
       "      <td> 34.72</td>\n",
       "      <td> 41.13</td>\n",
       "      <td> 18.17</td>\n",
       "      <td>  5.26</td>\n",
       "      <td>  0.72</td>\n",
       "    </tr>\n",
       "    <tr>\n",
       "      <td> Carleton College (Carleton College (CUT))</td>\n",
       "      <td>  8.41</td>\n",
       "      <td> 19.43</td>\n",
       "      <td> 44.15</td>\n",
       "      <td> 21.84</td>\n",
       "      <td>  6.17</td>\n",
       "    </tr>\n",
       "    <tr>\n",
       "      <td>                            Auburn (Aetos)</td>\n",
       "      <td>  2.08</td>\n",
       "      <td>  5.99</td>\n",
       "      <td> 22.89</td>\n",
       "      <td> 46.95</td>\n",
       "      <td> 22.09</td>\n",
       "    </tr>\n",
       "    <tr>\n",
       "      <td>                       Utah (Zion Curtain)</td>\n",
       "      <td>  0.10</td>\n",
       "      <td>  0.75</td>\n",
       "      <td>  4.82</td>\n",
       "      <td> 23.59</td>\n",
       "      <td> 70.74</td>\n",
       "    </tr>\n",
       "  </tbody>\n",
       "</table>"
      ],
      "text/plain": [
       "<IPython.core.display.HTML object>"
      ]
     },
     "metadata": {},
     "output_type": "display_data"
    }
   ],
   "source": [
    "display(HTML('<h1>Predicted percent chance of final placement in pool over 10,000 simulations</h1>'))\n",
    "display(HTML('<h3>Pool A</h3>'))\n",
    "display(HTML(pool_placement[1:6].to_html(index=False)))\n",
    "display(HTML('<h3>Pool B</h3>'))\n",
    "display(HTML(pool_placement[7:12].to_html(index=False)))\n",
    "display(HTML('<h3>Pool C</h3>'))\n",
    "display(HTML(pool_placement[13:18].to_html(index=False)))\n",
    "display(HTML('<h3>Pool D</h3>'))\n",
    "display(HTML(pool_placement[19:24].to_html(index=False)))"
   ]
  },
  {
   "cell_type": "code",
   "execution_count": 8,
   "metadata": {
    "collapsed": false
   },
   "outputs": [],
   "source": [
    "final_position = pd.read_csv('2016_bracket_stats.dat', delimiter=',', skiprows=1, names=('School', 'Pre-Quarters', 'Quarters', \n",
    "                                                                             'Semis', 'Final', 'Champion'))\n",
    "final_position['Pre-Quarters'] = final_position['Pre-Quarters']*100.\n",
    "final_position['Quarters'] = final_position['Quarters']*100.\n",
    "final_position['Semis'] = final_position['Semis']*100.\n",
    "final_position['Final'] = final_position['Final']*100.\n",
    "final_position['Champion'] = final_position['Champion']*100."
   ]
  },
  {
   "cell_type": "code",
   "execution_count": 9,
   "metadata": {
    "collapsed": false
   },
   "outputs": [
    {
     "data": {
      "text/html": [
       "<h1>Predicted percent chance of final progress in bracket over 10,000 simulations</h1>"
      ],
      "text/plain": [
       "<IPython.core.display.HTML object>"
      ]
     },
     "metadata": {},
     "output_type": "display_data"
    },
    {
     "data": {
      "text/html": [
       "<h3>Pool A</h3>"
      ],
      "text/plain": [
       "<IPython.core.display.HTML object>"
      ]
     },
     "metadata": {},
     "output_type": "display_data"
    },
    {
     "data": {
      "text/html": [
       "<table border=\"1\" class=\"dataframe\">\n",
       "  <thead>\n",
       "    <tr style=\"text-align: right;\">\n",
       "      <th>School</th>\n",
       "      <th>Pre-Quarters</th>\n",
       "      <th>Quarters</th>\n",
       "      <th>Semis</th>\n",
       "      <th>Final</th>\n",
       "      <th>Champion</th>\n",
       "    </tr>\n",
       "  </thead>\n",
       "  <tbody>\n",
       "    <tr>\n",
       "      <td> Massachusetts (Zoodisc)</td>\n",
       "      <td> 98.75</td>\n",
       "      <td> 96.07</td>\n",
       "      <td> 75.82</td>\n",
       "      <td> 52.54</td>\n",
       "      <td> 37.10</td>\n",
       "    </tr>\n",
       "    <tr>\n",
       "      <td>         Georgia (Jojah)</td>\n",
       "      <td> 57.23</td>\n",
       "      <td> 25.72</td>\n",
       "      <td>  8.10</td>\n",
       "      <td>  2.38</td>\n",
       "      <td>  0.47</td>\n",
       "    </tr>\n",
       "    <tr>\n",
       "      <td>       Texas A&amp;M (Dozen)</td>\n",
       "      <td> 48.46</td>\n",
       "      <td> 19.70</td>\n",
       "      <td>  5.52</td>\n",
       "      <td>  1.40</td>\n",
       "      <td>  0.24</td>\n",
       "    </tr>\n",
       "    <tr>\n",
       "      <td> Washington (Sundodgers)</td>\n",
       "      <td> 60.27</td>\n",
       "      <td> 28.63</td>\n",
       "      <td>  9.62</td>\n",
       "      <td>  2.94</td>\n",
       "      <td>  0.62</td>\n",
       "    </tr>\n",
       "    <tr>\n",
       "      <td>  Cal Poly-SLO (SLOCORE)</td>\n",
       "      <td> 35.29</td>\n",
       "      <td> 11.68</td>\n",
       "      <td>  2.51</td>\n",
       "      <td>  0.59</td>\n",
       "      <td>  0.01</td>\n",
       "    </tr>\n",
       "  </tbody>\n",
       "</table>"
      ],
      "text/plain": [
       "<IPython.core.display.HTML object>"
      ]
     },
     "metadata": {},
     "output_type": "display_data"
    },
    {
     "data": {
      "text/html": [
       "<h3>Pool B</h3>"
      ],
      "text/plain": [
       "<IPython.core.display.HTML object>"
      ]
     },
     "metadata": {},
     "output_type": "display_data"
    },
    {
     "data": {
      "text/html": [
       "<table border=\"1\" class=\"dataframe\">\n",
       "  <thead>\n",
       "    <tr style=\"text-align: right;\">\n",
       "      <th>School</th>\n",
       "      <th>Pre-Quarters</th>\n",
       "      <th>Quarters</th>\n",
       "      <th>Semis</th>\n",
       "      <th>Final</th>\n",
       "      <th>Champion</th>\n",
       "    </tr>\n",
       "  </thead>\n",
       "  <tbody>\n",
       "    <tr>\n",
       "      <td>                              Oregon (Ego)</td>\n",
       "      <td> 91.59</td>\n",
       "      <td> 69.81</td>\n",
       "      <td> 33.77</td>\n",
       "      <td> 14.35</td>\n",
       "      <td> 5.00</td>\n",
       "    </tr>\n",
       "    <tr>\n",
       "      <td>                 North Carolina (Darkside)</td>\n",
       "      <td> 94.49</td>\n",
       "      <td> 78.73</td>\n",
       "      <td> 42.96</td>\n",
       "      <td> 20.20</td>\n",
       "      <td> 8.41</td>\n",
       "    </tr>\n",
       "    <tr>\n",
       "      <td>                       Colorado (Mamabird)</td>\n",
       "      <td> 69.01</td>\n",
       "      <td> 34.88</td>\n",
       "      <td>  9.90</td>\n",
       "      <td>  2.43</td>\n",
       "      <td> 0.52</td>\n",
       "    </tr>\n",
       "    <tr>\n",
       "      <td>                       Florida State (DUF)</td>\n",
       "      <td> 31.58</td>\n",
       "      <td> 10.31</td>\n",
       "      <td>  1.67</td>\n",
       "      <td>  0.25</td>\n",
       "      <td> 0.01</td>\n",
       "    </tr>\n",
       "    <tr>\n",
       "      <td> Case Western Reserve (Fighting Gobies[A])</td>\n",
       "      <td> 13.33</td>\n",
       "      <td>  2.49</td>\n",
       "      <td>  0.23</td>\n",
       "      <td>  0.02</td>\n",
       "      <td> 0.00</td>\n",
       "    </tr>\n",
       "  </tbody>\n",
       "</table>"
      ],
      "text/plain": [
       "<IPython.core.display.HTML object>"
      ]
     },
     "metadata": {},
     "output_type": "display_data"
    },
    {
     "data": {
      "text/html": [
       "<h3>Pool C</h3>"
      ],
      "text/plain": [
       "<IPython.core.display.HTML object>"
      ]
     },
     "metadata": {},
     "output_type": "display_data"
    },
    {
     "data": {
      "text/html": [
       "<table border=\"1\" class=\"dataframe\">\n",
       "  <thead>\n",
       "    <tr style=\"text-align: right;\">\n",
       "      <th>School</th>\n",
       "      <th>Pre-Quarters</th>\n",
       "      <th>Quarters</th>\n",
       "      <th>Semis</th>\n",
       "      <th>Final</th>\n",
       "      <th>Champion</th>\n",
       "    </tr>\n",
       "  </thead>\n",
       "  <tbody>\n",
       "    <tr>\n",
       "      <td> North Carolina-Wilmington (Seamen)</td>\n",
       "      <td> 87.31</td>\n",
       "      <td> 61.61</td>\n",
       "      <td> 24.84</td>\n",
       "      <td>  9.96</td>\n",
       "      <td>  3.24</td>\n",
       "    </tr>\n",
       "    <tr>\n",
       "      <td>                 Wisconsin (Hodags)</td>\n",
       "      <td> 96.94</td>\n",
       "      <td> 87.87</td>\n",
       "      <td> 53.36</td>\n",
       "      <td> 32.43</td>\n",
       "      <td> 16.70</td>\n",
       "    </tr>\n",
       "    <tr>\n",
       "      <td>                 Harvard (Red Line)</td>\n",
       "      <td> 73.01</td>\n",
       "      <td> 40.79</td>\n",
       "      <td> 11.83</td>\n",
       "      <td>  3.34</td>\n",
       "      <td>  0.78</td>\n",
       "    </tr>\n",
       "    <tr>\n",
       "      <td>                  Michigan (MagnUM)</td>\n",
       "      <td> 32.82</td>\n",
       "      <td> 11.69</td>\n",
       "      <td>  1.50</td>\n",
       "      <td>  0.21</td>\n",
       "      <td>  0.03</td>\n",
       "    </tr>\n",
       "    <tr>\n",
       "      <td>          Connecticut (UConn Grind)</td>\n",
       "      <td>  9.92</td>\n",
       "      <td>  1.82</td>\n",
       "      <td>  0.15</td>\n",
       "      <td>  0.02</td>\n",
       "      <td>  0.00</td>\n",
       "    </tr>\n",
       "  </tbody>\n",
       "</table>"
      ],
      "text/plain": [
       "<IPython.core.display.HTML object>"
      ]
     },
     "metadata": {},
     "output_type": "display_data"
    },
    {
     "data": {
      "text/html": [
       "<h3>Pool D</h3>"
      ],
      "text/plain": [
       "<IPython.core.display.HTML object>"
      ]
     },
     "metadata": {},
     "output_type": "display_data"
    },
    {
     "data": {
      "text/html": [
       "<table border=\"1\" class=\"dataframe\">\n",
       "  <thead>\n",
       "    <tr style=\"text-align: right;\">\n",
       "      <th>School</th>\n",
       "      <th>Pre-Quarters</th>\n",
       "      <th>Quarters</th>\n",
       "      <th>Semis</th>\n",
       "      <th>Final</th>\n",
       "      <th>Champion</th>\n",
       "    </tr>\n",
       "  </thead>\n",
       "  <tbody>\n",
       "    <tr>\n",
       "      <td>                     Minnesota (Grey Duck)</td>\n",
       "      <td> 97.36</td>\n",
       "      <td> 88.53</td>\n",
       "      <td> 58.99</td>\n",
       "      <td> 32.18</td>\n",
       "      <td> 17.66</td>\n",
       "    </tr>\n",
       "    <tr>\n",
       "      <td>                 Pittsburgh (En Sabah Nur)</td>\n",
       "      <td> 94.02</td>\n",
       "      <td> 77.82</td>\n",
       "      <td> 44.13</td>\n",
       "      <td> 21.05</td>\n",
       "      <td>  8.54</td>\n",
       "    </tr>\n",
       "    <tr>\n",
       "      <td> Carleton College (Carleton College (CUT))</td>\n",
       "      <td> 71.99</td>\n",
       "      <td> 39.90</td>\n",
       "      <td> 13.04</td>\n",
       "      <td>  3.45</td>\n",
       "      <td>  0.64</td>\n",
       "    </tr>\n",
       "    <tr>\n",
       "      <td>                            Auburn (Aetos)</td>\n",
       "      <td> 30.96</td>\n",
       "      <td> 11.09</td>\n",
       "      <td>  2.05</td>\n",
       "      <td>  0.26</td>\n",
       "      <td>  0.03</td>\n",
       "    </tr>\n",
       "    <tr>\n",
       "      <td>                       Utah (Zion Curtain)</td>\n",
       "      <td>  5.67</td>\n",
       "      <td>  0.86</td>\n",
       "      <td>  0.01</td>\n",
       "      <td>  0.00</td>\n",
       "      <td>  0.00</td>\n",
       "    </tr>\n",
       "  </tbody>\n",
       "</table>"
      ],
      "text/plain": [
       "<IPython.core.display.HTML object>"
      ]
     },
     "metadata": {},
     "output_type": "display_data"
    }
   ],
   "source": [
    "display(HTML('<h1>Predicted percent chance of final progress in bracket over 10,000 simulations</h1>'))\n",
    "display(HTML('<h3>Pool A</h3>'))\n",
    "display(HTML(final_position[1:6].to_html(index=False)))\n",
    "display(HTML('<h3>Pool B</h3>'))\n",
    "display(HTML(final_position[7:12].to_html(index=False)))\n",
    "display(HTML('<h3>Pool C</h3>'))\n",
    "display(HTML(final_position[13:18].to_html(index=False)))\n",
    "display(HTML('<h3>Pool D</h3>'))\n",
    "display(HTML(final_position[19:24].to_html(index=False)))"
   ]
  },
  {
   "cell_type": "code",
   "execution_count": null,
   "metadata": {
    "collapsed": true
   },
   "outputs": [],
   "source": []
  }
 ],
 "metadata": {
  "kernelspec": {
   "display_name": "Python 2",
   "language": "python",
   "name": "python2"
  },
  "language_info": {
   "codemirror_mode": {
    "name": "ipython",
    "version": 2
   },
   "file_extension": ".py",
   "mimetype": "text/x-python",
   "name": "python",
   "nbconvert_exporter": "python",
   "pygments_lexer": "ipython2",
   "version": "2.7.11"
  }
 },
 "nbformat": 4,
 "nbformat_minor": 0
}
