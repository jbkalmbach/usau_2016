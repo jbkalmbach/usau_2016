{
 "cells": [
  {
   "cell_type": "code",
   "execution_count": 1,
   "metadata": {
    "collapsed": true
   },
   "outputs": [],
   "source": [
    "import json\n",
    "import datetime\n",
    "import pandas as pd\n",
    "import numpy as np\n",
    "from collections import OrderedDict"
   ]
  },
  {
   "cell_type": "markdown",
   "metadata": {},
   "source": [
    "###Load data"
   ]
  },
  {
   "cell_type": "code",
   "execution_count": 2,
   "metadata": {
    "collapsed": false
   },
   "outputs": [],
   "source": [
    "#Data from http://www.ultimaterankings.net/download.html\n",
    "json_data=open('usau_database.json').read()\n",
    "data=json.loads(json_data)"
   ]
  },
  {
   "cell_type": "markdown",
   "metadata": {},
   "source": [
    "###Contents of data file"
   ]
  },
  {
   "cell_type": "code",
   "execution_count": 3,
   "metadata": {
    "collapsed": false
   },
   "outputs": [
    {
     "data": {
      "text/plain": [
       "[u'tournaments', u'games', u'id', u'teams']"
      ]
     },
     "execution_count": 3,
     "metadata": {},
     "output_type": "execute_result"
    }
   ],
   "source": [
    "data.keys()"
   ]
  },
  {
   "cell_type": "code",
   "execution_count": 4,
   "metadata": {
    "collapsed": false
   },
   "outputs": [
    {
     "data": {
      "text/plain": [
       "{u'id': u'dHP4OF2933HXVGrIpWK%2f4FCcI6ithl6x98Nwnx3%2b6Ic',\n",
       " u'name': u'Alabama-Birmingham (Inferno)',\n",
       " u'usau_rating': {u'losses': 8, u'score': 1330.0, u'wins': 10}}"
      ]
     },
     "execution_count": 4,
     "metadata": {},
     "output_type": "execute_result"
    }
   ],
   "source": [
    "data['teams'][0]"
   ]
  },
  {
   "cell_type": "code",
   "execution_count": 5,
   "metadata": {
    "collapsed": false
   },
   "outputs": [
    {
     "data": {
      "text/plain": [
       "{u'id': u'Heart-of-Texas-Huckfest-2016',\n",
       " u'name': u'Heart of Texas Huckfest 2016'}"
      ]
     },
     "execution_count": 5,
     "metadata": {},
     "output_type": "execute_result"
    }
   ],
   "source": [
    "data['tournaments'][0]"
   ]
  },
  {
   "cell_type": "code",
   "execution_count": 6,
   "metadata": {
    "collapsed": false
   },
   "outputs": [
    {
     "data": {
      "text/plain": [
       "{u'id': u'BJqUZviPseUsP%2bmZBMKRTUzuhlBsKCoHQ34pLgViuMg',\n",
       " u'local_datetime': u'2016-03-20 10:00',\n",
       " u'score': [13, 11],\n",
       " u'teams': [u'B6lUQxBw7%2fUGN0505cwf9CONoJwD%2fgEX7yiqLf%2b5yE0',\n",
       "  u'nBwnp8VsMQk6mqcMw8QPOpDi%2bXJODhZUeLhRQ3VfSvY'],\n",
       " u'tournament': u'Trouble-in-Vegas-2016'}"
      ]
     },
     "execution_count": 6,
     "metadata": {},
     "output_type": "execute_result"
    }
   ],
   "source": [
    "data['games'][10]"
   ]
  },
  {
   "cell_type": "code",
   "execution_count": 7,
   "metadata": {
    "collapsed": false
   },
   "outputs": [
    {
     "data": {
      "text/plain": [
       "u'College-Men'"
      ]
     },
     "execution_count": 7,
     "metadata": {},
     "output_type": "execute_result"
    }
   ],
   "source": [
    "data['id']"
   ]
  },
  {
   "cell_type": "code",
   "execution_count": 8,
   "metadata": {
    "collapsed": false
   },
   "outputs": [],
   "source": [
    "#Organize Data into Pandas Dataframes\n",
    "games_df = pd.io.json.json_normalize(data['games'])\n",
    "teams_df = pd.io.json.json_normalize(data['teams'])"
   ]
  },
  {
   "cell_type": "code",
   "execution_count": 9,
   "metadata": {
    "collapsed": false
   },
   "outputs": [],
   "source": [
    "#Get the unique timestamps and organize chronologically\n",
    "timesort = pd.unique(games_df['local_datetime'])[np.argsort(pd.unique(games_df['local_datetime']))]"
   ]
  },
  {
   "cell_type": "code",
   "execution_count": 10,
   "metadata": {
    "collapsed": false
   },
   "outputs": [],
   "source": [
    "teams_dict = {}\n",
    "ratings_dict = {}\n",
    "for team in data['teams']:\n",
    "    teams_dict[team['id']] = team['name'] #Link each team's hash id to their team name for easy reference\n",
    "    ratings_dict[team['id']] = 1.0 #Every team's initial rating is 1.0"
   ]
  },
  {
   "cell_type": "code",
   "execution_count": 11,
   "metadata": {
    "collapsed": true
   },
   "outputs": [],
   "source": [
    "#Enter all game information into a dictionary callable by their date and time\n",
    "games_dict = {}\n",
    "for time_stamp in timesort:\n",
    "    time_games = games_df[games_df['local_datetime'] == time_stamp]\n",
    "    time_games = time_games[time_games['blacklisted_reason'] != 'blacklisted']\n",
    "    date_list = []\n",
    "    internal_dict = {}\n",
    "    internal_dict['teams'] = np.asarray(time_games['teams'])\n",
    "    internal_dict['scores'] = np.asarray(time_games['score'])\n",
    "    games_dict[time_stamp] = internal_dict "
   ]
  },
  {
   "cell_type": "markdown",
   "metadata": {},
   "source": [
    "###Calculate Bradley-Terry Ratings"
   ]
  },
  {
   "cell_type": "code",
   "execution_count": 13,
   "metadata": {
    "collapsed": false
   },
   "outputs": [],
   "source": [
    "def expected_BT_win(rating_1, rating_2, score):\n",
    "    team_1_expected = np.sum(score)*(rating_1/(rating_1+rating_2))\n",
    "    team_2_expected = np.sum(score)*(rating_2/(rating_1+rating_2))\n",
    "    return team_1_expected, team_2_expected"
   ]
  },
  {
   "cell_type": "code",
   "execution_count": 14,
   "metadata": {
    "collapsed": false
   },
   "outputs": [],
   "source": [
    "def first_order_BT(rating_1, rating_2, score):\n",
    "    team_1_correction = np.sum(score)*(rating_2/np.square(rating_1+rating_2))\n",
    "    team_2_correction = np.sum(score)*(rating_1/np.square(rating_1+rating_2))\n",
    "    return team_1_correction, team_2_correction"
   ]
  },
  {
   "cell_type": "code",
   "execution_count": 15,
   "metadata": {
    "collapsed": true
   },
   "outputs": [
    {
     "name": "stdout",
     "output_type": "stream",
     "text": [
      "1.64912280702\n",
      "1.62937224418\n",
      "0.905751516695\n",
      "1.50930415236\n",
      "0.786691854515\n",
      "2.14450979265\n",
      "0.440643452563\n",
      "1.23429512908\n",
      "0.114543669106\n",
      "0.100837973149\n",
      "0.0884800670008\n",
      "0.0774311322289\n",
      "0.0675157397306\n",
      "0.0587430190874\n",
      "0.0511231514659\n",
      "0.0446195516545\n",
      "0.0389538517189\n",
      "0.034017511317\n",
      "0.029732934586\n",
      "0.0260191847119\n",
      "0.0228022712983\n",
      "0.0200148384159\n",
      "0.0175972580288\n",
      "0.0154977635862\n",
      "0.0136715694113\n",
      "0.0120804188572\n",
      "0.010691562463\n",
      "0.00947712563677\n",
      "0.0084133082779\n",
      "0.00747981963986\n",
      "0.00665930774084\n",
      "0.00593692440349\n",
      "0.00529992877286\n",
      "0.00473737150234\n",
      "0.00423981981268\n",
      "0.00379913273789\n",
      "0.00340826908458\n",
      "0.00306112786878\n",
      "0.00275241272815\n",
      "0.00247751800699\n",
      "0.00223243190439\n",
      "0.0020136544351\n",
      "0.00181812746536\n",
      "0.00164317506967\n",
      "0.00149332515178\n",
      "0.00136393714575\n",
      "0.00124638456231\n",
      "0.00113950824844\n",
      "0.00104227207137\n",
      "0.000953748658266\n",
      "0.000873106948544\n",
      "0.000799601305743\n",
      "0.000732561974683\n",
      "0.000671386702055\n",
      "0.000615533365302\n",
      "0.000564513477517\n",
      "0.000517886454798\n",
      "0.000475254548696\n",
      "0.000436258359999\n",
      "0.000400572861227\n",
      "0.000367903865564\n",
      "0.00033798488773\n",
      "0.000310574349802\n",
      "0.000285453091048\n",
      "0.000262422145866\n",
      "0.000241300758868\n",
      "0.000221924609646\n",
      "0.000204144223413\n",
      "0.000187823546514\n",
      "0.000172838668433\n",
      "0.000159076674039\n",
      "0.000146434611816\n",
      "0.000134818565488\n",
      "0.000124142817919\n",
      "0.000114329097411\n",
      "0.000105305897729\n",
      "9.70078641259e-05\n",
      "8.93752384801e-05\n",
      "8.23533574752e-05\n",
      "7.58921984317e-05\n",
      "6.99459679082e-05\n",
      "6.44727288204e-05\n",
      "5.94340621744e-05\n",
      "5.4794760151e-05\n",
      "5.05225471858e-05\n",
      "4.65878266241e-05\n",
      "4.29634502468e-05\n",
      "3.96245086115e-05\n",
      "3.65481401231e-05\n",
      "3.37133571458e-05\n",
      "3.11008875337e-05\n",
      "2.86930300725e-05\n",
      "2.64735226491e-05\n",
      "2.44274218612e-05\n",
      "2.25409931832e-05\n",
      "2.08016104823e-05\n",
      "1.91976643198e-05\n",
      "1.77184779928e-05\n",
      "1.63542308211e-05\n",
      "1.50958878883e-05\n",
      "1.39351357914e-05\n",
      "1.28643237376e-05\n",
      "1.18764096291e-05\n",
      "1.09649106794e-05\n",
      "1.01238580833e-05\n",
      "9.34775551785e-06\n",
      "8.63154105412e-06\n",
      "7.97055221665e-06\n",
      "7.36049390069e-06\n",
      "6.79740900446e-06\n",
      "6.27765134236e-06\n",
      "5.79786086899e-06\n",
      "5.35494088484e-06\n",
      "4.94603711514e-06\n",
      "4.56851841142e-06\n",
      "4.21995914522e-06\n",
      "3.89812289915e-06\n",
      "3.60094752347e-06\n",
      "3.32653141055e-06\n",
      "3.07312081777e-06\n",
      "2.83909827403e-06\n",
      "2.62297185447e-06\n",
      "2.42336530889e-06\n",
      "2.2390090342e-06\n",
      "2.06873172513e-06\n",
      "1.91145265464e-06\n",
      "1.76617464353e-06\n",
      "1.63197750361e-06\n",
      "1.50801208171e-06\n",
      "1.39349469606e-06\n",
      "1.28770204034e-06\n",
      "1.18996654923e-06\n",
      "1.09967199775e-06\n",
      "1.01624955977e-06\n",
      "9.39174136648e-07\n",
      "8.6796096696e-07\n",
      "8.02162491857e-07\n",
      "7.41365499082e-07\n",
      "6.85188469313e-07\n",
      "6.33279109093e-07\n",
      "5.85312128517e-07\n",
      "5.40987117046e-07\n",
      "5.00026691956e-07\n",
      "4.62174650407e-07\n",
      "4.27194396577e-07\n",
      "3.94867412408e-07\n",
      "3.64991871338e-07\n",
      "3.37381353807e-07\n",
      "3.11863673046e-07\n",
      "2.88279779612e-07\n",
      "2.6648274227e-07\n",
      "2.46336851267e-07\n",
      "2.27716714324e-07\n",
      "2.10506512586e-07\n",
      "1.94599232343e-07\n",
      "1.79896020338e-07\n",
      "1.66305529392e-07\n",
      "1.53743377937e-07\n",
      "1.42131586514e-07\n",
      "1.31398116072e-07\n",
      "1.21476400208e-07\n",
      "1.12304931931e-07\n",
      "1.03826868607e-07\n",
      "9.59896865894e-08\n",
      "9.59896865894e-08 [7, 11, 12, 18, 44, 48, 65, 68, 82, 101, 103, 105, 111, 116, 123, 130, 162, 168, 173, 175, 178, 187, 194, 218, 221, 224, 236, 246, 261, 289, 293, 304, 310, 328, 368, 371, 377, 381, 386, 403, 411, 422, 430, 435, 453, 457, 472, 479, 481]\n"
     ]
    }
   ],
   "source": [
    "wins_dict = {}\n",
    "rating_corrections_dict = {}\n",
    "approx_corr_max = 0.2\n",
    "\n",
    "#Continue iterating until max correction is < 1e-7.\n",
    "while approx_corr_max > 1e-7:\n",
    "    approx_corr_max = 0.0\n",
    "    zero_game_teams = []\n",
    "    \n",
    "    #Reset values\n",
    "    for team_id in teams_dict.keys():\n",
    "        wins_dict[team_id] = np.zeros(2) #[Actual, Expected]\n",
    "        rating_corrections_dict[team_id] = 0.0 #Set the initial correction each time to 0.0\n",
    "        \n",
    "    #Run through all games collecting information on actual and expected wins\n",
    "    prev_time_stamp = u'2016-01-01 12:00'\n",
    "    length = len(timesort)+1\n",
    "    for time_stamp in timesort:\n",
    "        for score, teams in zip(games_dict[time_stamp]['scores'], games_dict[time_stamp]['teams']):\n",
    "            old_rating_1 = ratings_dict[teams[0]]\n",
    "            old_rating_2 = ratings_dict[teams[1]]\n",
    "            exp_wins_1, exp_wins_2 = expected_BT_win(old_rating_1, old_rating_2, score)\n",
    "            fo_corr_1, fo_corr_2 = first_order_BT(old_rating_1, old_rating_2, score)\n",
    "            wins_dict[teams[0]] += [score[0], exp_wins_1]\n",
    "            wins_dict[teams[1]] += [score[1], exp_wins_2]\n",
    "            rating_corrections_dict[teams[0]] += fo_corr_1\n",
    "            rating_corrections_dict[teams[1]] += fo_corr_2\n",
    "        prev_time_stamp = time_stamp\n",
    "        \n",
    "    #Now use information collected to calculate rating corrections\n",
    "    team_idx = 0\n",
    "    for team_id in teams_dict.keys():\n",
    "        if rating_corrections_dict[team_id] != 0.:\n",
    "            approx_corr = (wins_dict[team_id][0] - wins_dict[team_id][1])*(1/(rating_corrections_dict[team_id]))\n",
    "            if np.abs(approx_corr) > approx_corr_max:\n",
    "                approx_corr_max = np.abs(approx_corr)\n",
    "            if (ratings_dict[team_id] + approx_corr) < 0.001:\n",
    "                ratings_dict[team_id] = 0.001\n",
    "            else:\n",
    "                ratings_dict[team_id] += approx_corr \n",
    "        else:\n",
    "            zero_game_teams.append(team_idx) #Record which teams have zero games played\n",
    "        team_idx+=1\n",
    "    print approx_corr_max\n",
    "print approx_corr_max, zero_game_teams"
   ]
  },
  {
   "cell_type": "code",
   "execution_count": 902,
   "metadata": {
    "collapsed": false
   },
   "outputs": [
    {
     "name": "stdout",
     "output_type": "stream",
     "text": [
      "Final Top 50 Rankings\n",
      "#1:  Massachusetts (Zoodisc) 3.93175098471\n",
      "#2:  Minnesota (Grey Duck) 3.5112111374\n",
      "#3:  Wisconsin (Hodags) 3.49247859968\n",
      "#4:  Pittsburgh (En Sabah Nur) 3.22089833103\n",
      "#5:  North Carolina (Darkside) 3.19484400972\n",
      "#6:  Stanford (Stanford Bloodthirsty) 3.11534957695\n",
      "#7:  Oregon (Ego) 3.04958772128\n",
      "#8:  Florida (Florida) 3.04248629991\n",
      "#9:  North Carolina-Wilmington (Seamen) 2.95001629926\n",
      "#10:  British Columbia (Thunderbirds) 2.7012249931\n",
      "#11:  Harvard (Red Line) 2.65775323639\n",
      "#12:  Carleton College (Carleton College (CUT)) 2.60970252161\n",
      "#13:  Washington (Sundodgers) 2.59454709927\n",
      "#14:  Colorado (Mamabird) 2.56448225152\n",
      "#15:  Georgia (Jojah) 2.55849469168\n",
      "#16:  Brigham Young (CHI) 2.54971773854\n",
      "#17:  Texas A&M (Dozen) 2.45935859327\n",
      "#18:  Arkansas (Ludicrous Speed) 2.39230838674\n",
      "#19:  Ohio State (Leadbelly) 2.3598919666\n",
      "#20:  Cal Poly-SLO (SLOCORE) 2.31855160456\n",
      "#21:  Texas (TUFF) 2.26602703659\n",
      "#22:  Michigan (MagnUM) 2.24147786059\n",
      "#23:  California-Santa Barbara (Black Tide) 2.22650320299\n",
      "#24:  Auburn (Aetos) 2.2056200381\n",
      "#25:  Florida State (DUF) 2.18364359487\n",
      "#26:  Penn State (Spank) 2.18291612042\n",
      "#27:  Virginia Tech (Burn) 2.17458085279\n",
      "#28:  Central Florida (Dogs of War) 2.15702648149\n",
      "#29:  Victoria (Vikes) 2.14805120393\n",
      "#30:  California-San Diego (Air Squids) 2.06769103732\n",
      "#31:  Colorado State (Hibida) 2.02860733783\n",
      "#32:  James Madison (Hellfish) 2.00892081382\n",
      "#33:  Western Washington (Dirt) 1.99883586221\n",
      "#34:  LSU (LSU Ultimate) 1.98444450413\n",
      "#35:  Missouri (Missouri) 1.98261824712\n",
      "#36:  Tulane (Rex) 1.98125586913\n",
      "#37:  Purdue (Undue Ultimate) 1.9630566211\n",
      "#38:  Maryland (Maryland Ultimate) 1.96060783435\n",
      "#39:  Brown (Brownian Motion) 1.93009115274\n",
      "#40:  Case Western Reserve (Fighting Gobies[A]) 1.92965870149\n",
      "#41:  Georgia Tech (Tribe) 1.92181594941\n",
      "#42:  Connecticut (UConn Grind) 1.89998141921\n",
      "#43:  Virginia Commonwealth (Villains) 1.83349986039\n",
      "#44:  Oregon State (Beavers) 1.82549926979\n",
      "#45:  Texas Christian (High Noon) 1.77807759231\n",
      "#46:  Cincinnati (Cincinnati Ultimate) 1.77324944688\n",
      "#47:  Utah (Zion Curtain) 1.76331909462\n",
      "#48:  Notre Dame (Papal Rage) 1.74874787545\n",
      "#49:  Arizona (Sunburn) 1.74311123623\n",
      "#50:  Bryant (Bryant Craze) 1.71618856164\n"
     ]
    }
   ],
   "source": [
    "final_ratings = []\n",
    "for team in teams_dict.keys():\n",
    "    final_ratings.append(ratings_dict[team])\n",
    "final_rankings = np.argsort(final_ratings)[::-1]\n",
    "i = 1\n",
    "print \"Final Top 50 Rankings\"\n",
    "for team_id in final_rankings[:50]:\n",
    "    print str('#%i: ' %i), teams_dict.values()[team_id], ratings_dict.values()[team_id]\n",
    "    i+=1"
   ]
  },
  {
   "cell_type": "markdown",
   "metadata": {
    "collapsed": true
   },
   "source": [
    "###Run simulations of Nationals"
   ]
  },
  {
   "cell_type": "code",
   "execution_count": 303,
   "metadata": {
    "collapsed": false
   },
   "outputs": [],
   "source": [
    "from scipy.stats import binom\n",
    "def prob_win_game_15points(rating_1, rating_2):\n",
    "    #Game to 15, cap at 17 win probability\n",
    "    r = rating_1/(rating_1+rating_2)\n",
    "    x = binom(28, r)\n",
    "    overtime_16_14 = x.pmf(14)*(r**2) #Chance of 14-14 then 2 points in a row for team 1\n",
    "    overtime_17_15 = x.pmf(14)*(2*(r*(1-r)))*(r**2) #Chance of 14-14 then 15-15 then 2 points in a row for team 1\n",
    "    overtime_17_16 = x.pmf(14)*(2*(r*(1-r)))*(2*r*(1-r))*(r) #Chance of 15-15 then 16-16 then 1 point for team 1\n",
    "    prob = np.sum(x.pmf(np.arange(15, 29))) + overtime_16_14 + overtime_17_15 + overtime_17_16\n",
    "    #possible_scores = np.append(x.pmf, np.array(\n",
    "    return prob"
   ]
  },
  {
   "cell_type": "code",
   "execution_count": 406,
   "metadata": {
    "collapsed": true
   },
   "outputs": [],
   "source": [
    "from scipy.misc import comb\n",
    "from bisect import bisect\n",
    "def calc_point_spread(rating_1, rating_2, draw_val):\n",
    "    y = [0.0]\n",
    "    r = rating_1/(rating_1+rating_2)\n",
    "    score_diff_arr = np.arange(15,1,-1)\n",
    "    \n",
    "    overtime_16_14 = comb(28, 14)*(r**14)*((1-r)**14)*(r**2)\n",
    "    overtime_17_15 = comb(28, 14)*(r**14)*((1-r)**14)*(2*(r*(1-r)))*(r**2) \n",
    "    overtime_17_16 = comb(28, 14)*(r**14)*((1-r)**14)*(2*(r*(1-r)))*(2*r*(1-r))*(r)\n",
    "    \n",
    "    for score_diff in score_diff_arr:\n",
    "        x = comb(15+(15-score_diff)-1, 14, exact=True)*(r**15)*((1-r)**(15-score_diff))\n",
    "        y.append(x+y[-1])\n",
    "    y[-1]+=overtime_16_14\n",
    "    y[-1]+=overtime_17_15\n",
    "    y.append(overtime_17_16+y[-1])\n",
    "    score_diff_arr = np.append(score_diff_arr, 1)\n",
    "    if draw_val > y[-1]:\n",
    "        draw_val = 1.0 - draw_val\n",
    "    return score_diff_arr[bisect(y, draw_val)-1]"
   ]
  },
  {
   "cell_type": "code",
   "execution_count": 876,
   "metadata": {
    "collapsed": true
   },
   "outputs": [],
   "source": [
    "def three_team_tiebreak(poss_teams, team_wins):\n",
    "    skip_score_diff = False\n",
    "    pool_ranks = []\n",
    "    score_diff = np.zeros(3)\n",
    "    #In case one team beat the other two\n",
    "    if poss_teams[1] in team_wins[str(poss_teams[0])][0]:\n",
    "        if poss_teams[2] in team_wins[str(poss_teams[0])][0]:\n",
    "            pool_ranks.append(poss_teams[0])\n",
    "            if poss_teams[2] in team_wins[str(poss_teams[1])][0]:\n",
    "                pool_ranks.append(poss_teams[1])\n",
    "                pool_ranks.append(poss_teams[2])\n",
    "                skip_score_diff = True\n",
    "            else:\n",
    "                pool_ranks.append(poss_teams[2])\n",
    "                pool_ranks.append(poss_teams[1])\n",
    "                skip_score_diff = True\n",
    "        else:\n",
    "            score_diff[0] += team_wins[str(poss_teams[0])][1][np.where(team_wins[str(poss_teams[0])][0] == poss_teams[1])[0]]\n",
    "            score_diff[1] -= team_wins[str(poss_teams[0])][1][np.where(team_wins[str(poss_teams[0])][0] == poss_teams[1])[0]]\n",
    "    elif poss_teams[2] in team_wins[str(poss_teams[0])][0]:\n",
    "        score_diff[0] += team_wins[str(poss_teams[0])][1][np.where(team_wins[str(poss_teams[0])][0] == poss_teams[2])[0]]\n",
    "        score_diff[2] -= team_wins[str(poss_teams[0])][1][np.where(team_wins[str(poss_teams[0])][0] == poss_teams[2])[0]]\n",
    "\n",
    "    if poss_teams[0] in team_wins[str(poss_teams[1])][0]:\n",
    "        if poss_teams[2] in team_wins[str(poss_teams[1])][0]:\n",
    "            pool_ranks.append(poss_teams[1])\n",
    "            if poss_teams[0] in team_wins[str(poss_teams[2])][0]:\n",
    "                pool_ranks.append(poss_teams[2])\n",
    "                pool_ranks.append(poss_teams[0])\n",
    "                skip_score_diff = True\n",
    "            else:\n",
    "                pool_ranks.append(poss_teams[0])\n",
    "                pool_ranks.append(poss_teams[2])\n",
    "                skip_score_diff = True\n",
    "        else:\n",
    "            score_diff[1] += team_wins[str(poss_teams[1])][1][np.where(team_wins[str(poss_teams[1])][0] == poss_teams[0])[0]]\n",
    "            score_diff[0] -= team_wins[str(poss_teams[1])][1][np.where(team_wins[str(poss_teams[1])][0] == poss_teams[0])[0]]\n",
    "    elif poss_teams[2] in team_wins[str(poss_teams[1])][0]:\n",
    "            score_diff[1] += team_wins[str(poss_teams[1])][1][np.where(team_wins[str(poss_teams[1])][0] == poss_teams[2])[0]]\n",
    "            score_diff[2] -= team_wins[str(poss_teams[1])][1][np.where(team_wins[str(poss_teams[1])][0] == poss_teams[2])[0]]\n",
    "\n",
    "    if poss_teams[1] in team_wins[str(poss_teams[2])][0]:\n",
    "        if poss_teams[0] in team_wins[str(poss_teams[2])][0]:\n",
    "            pool_ranks.append(poss_teams[2])\n",
    "            if poss_teams[1] in team_wins[str(poss_teams[0])][0]:\n",
    "                pool_ranks.append(poss_teams[0])\n",
    "                pool_ranks.append(poss_teams[1])\n",
    "                skip_score_diff = True\n",
    "            else:\n",
    "                pool_ranks.append(poss_teams[1])\n",
    "                pool_ranks.append(poss_teams[0])\n",
    "                skip_score_diff = True\n",
    "        else:\n",
    "            score_diff[2] += team_wins[str(poss_teams[2])][1][np.where(team_wins[str(poss_teams[2])][0] == poss_teams[1])[0]]\n",
    "            score_diff[1] -= team_wins[str(poss_teams[2])][1][np.where(team_wins[str(poss_teams[2])][0] == poss_teams[1])[0]]\n",
    "    elif poss_teams[0] in team_wins[str(poss_teams[2])][0]:\n",
    "            score_diff[2] += team_wins[str(poss_teams[2])][1][np.where(team_wins[str(poss_teams[2])][0] == poss_teams[0])[0]]\n",
    "            score_diff[0] -= team_wins[str(poss_teams[2])][1][np.where(team_wins[str(poss_teams[2])][0] == poss_teams[0])[0]]\n",
    "\n",
    "    #Otherwise go to score differential\n",
    "    if skip_score_diff == False:\n",
    "        score_diff_rank = np.argsort(score_diff)[::-1]\n",
    "        if len(np.unique(score_diff)) == 3:\n",
    "            pool_ranks.append(poss_teams[score_diff_rank[0]])\n",
    "            pool_ranks.append(poss_teams[score_diff_rank[1]])\n",
    "            pool_ranks.append(poss_teams[score_diff_rank[2]])\n",
    "        elif len(np.unique(score_diff)) == 2:\n",
    "            if list(score_diff).count(np.max(score_diff)) == 1:\n",
    "                pool_ranks.append(poss_teams[score_diff_rank[0]])\n",
    "                if poss_teams[score_diff_rank[1]] in team_wins[str(poss_teams[score_diff_rank[2]])][0]:\n",
    "                    pool_ranks.append(poss_teams[score_diff_rank[2]])\n",
    "                    pool_ranks.append(poss_teams[score_diff_rank[1]])\n",
    "                else:\n",
    "                    pool_ranks.append(poss_teams[score_diff_rank[1]])\n",
    "                    pool_ranks.append(poss_teams[score_diff_rank[2]])\n",
    "            else:\n",
    "                if poss_teams[score_diff_rank[1]] in team_wins[str(poss_teams[score_diff_rank[0]])][0]:\n",
    "                    pool_ranks.append(poss_teams[score_diff_rank[0]])\n",
    "                    pool_ranks.append(poss_teams[score_diff_rank[1]])\n",
    "                else:\n",
    "                    pool_ranks.append(poss_teams[score_diff_rank[1]])\n",
    "                    pool_ranks.append(poss_teams[score_diff_rank[0]])\n",
    "                pool_ranks.append(poss_teams[score_diff_rank[2]])\n",
    "        elif len(np.unique(score_diff)) == 1:\n",
    "            total_diff = [np.sum(team_wins[str(poss_teams[x])][1]) for x in xrange(3)]\n",
    "            for team_num in xrange(5):\n",
    "                if team_num not in poss_teams:\n",
    "                    for val in xrange(3):\n",
    "                        if poss_teams[val] in team_wins[str(team_num)][0]:\n",
    "                            total_diff[val] -= team_wins[str(team_num)][1][np.where(team_wins[str(team_num)][0] == poss_teams[val])[0]]\n",
    "            total_diff_rank = np.argsort(total_diff)[::-1]\n",
    "            if len(np.unique(total_diff)) == 3:\n",
    "                pool_ranks.append(poss_teams[total_diff_rank[0]])\n",
    "                pool_ranks.append(poss_teams[total_diff_rank[1]])\n",
    "                pool_ranks.append(poss_teams[total_diff_rank[2]])\n",
    "            elif len(np.unique(total_diff)) == 2:\n",
    "                if list(total_diff).count(np.max(total_diff)) == 1:\n",
    "                    pool_ranks.append(poss_teams[total_diff_rank[0]])\n",
    "                    if poss_teams[total_diff_rank[1]] in team_wins[str(poss_teams[total_diff_rank[2]])][0]:\n",
    "                        pool_ranks.append(poss_teams[total_diff_rank[2]])\n",
    "                        pool_ranks.append(poss_teams[total_diff_rank[1]])\n",
    "                    else:\n",
    "                        pool_ranks.append(poss_teams[total_diff_rank[1]])\n",
    "                        pool_ranks.append(poss_teams[total_diff_rank[2]])\n",
    "                else:\n",
    "                    if poss_teams[total_diff_rank[1]] in team_wins[str(poss_teams[total_diff_rank[0]])][0]:\n",
    "                        pool_ranks.append(poss_teams[total_diff_rank[0]])\n",
    "                        pool_ranks.append(poss_teams[total_diff_rank[1]])\n",
    "                    else:\n",
    "                        pool_ranks.append(poss_teams[total_diff_rank[1]])\n",
    "                        pool_ranks.append(poss_teams[total_diff_rank[0]])\n",
    "                    pool_ranks.append(poss_teams[total_diff_rank[2]])    \n",
    "            elif len(np.unique(total_diff)) == 1:\n",
    "                print pool_ranks\n",
    "                raise ValueError('New tiebreaker needed.')\n",
    "    return pool_ranks"
   ]
  },
  {
   "cell_type": "code",
   "execution_count": 895,
   "metadata": {
    "collapsed": false
   },
   "outputs": [],
   "source": [
    "def pool_play_sim(r_dict, pool_teams):\n",
    "\n",
    "    pool_wins = np.zeros(5)\n",
    "    matchups = [[1,2], [3,4], [2,4], [3,5], [1,5], [1,3], [2,5], [1,4], [2,3], [4,5]] #order doesn't matter, just used pool A sched.\n",
    "    team_wins = {str(x):[[],[]] for x in xrange(len(pool_teams))}\n",
    "    for teams in matchups:\n",
    "        win_1 = prob_win_game_15points(r_dict[pool_teams[teams[0]-1]], r_dict[pool_teams[teams[1]-1]])\n",
    "        rand_draw = np.random.random()\n",
    "        if rand_draw <= win_1:\n",
    "            pool_wins[teams[0]-1]+=1\n",
    "            point_spread = calc_point_spread(r_dict[pool_teams[teams[0]-1]], r_dict[pool_teams[teams[1]-1]], rand_draw)\n",
    "            team_wins[str(teams[0]-1)][0].append(teams[1]-1)\n",
    "            team_wins[str(teams[0]-1)][1].append(point_spread)\n",
    "        else:\n",
    "            pool_wins[teams[1]-1]+=1\n",
    "            point_spread = calc_point_spread(r_dict[pool_teams[teams[1]-1]], r_dict[pool_teams[teams[0]-1]], rand_draw)\n",
    "            team_wins[str(teams[1]-1)][0].append(teams[0]-1)\n",
    "            team_wins[str(teams[1]-1)][1].append(point_spread)\n",
    "    pool_ranks = []\n",
    "#Tie breaker scenarios based upon https://www.cs.rochester.edu/u/ferguson/ultimate/upa-formats/upa-formats-basic.html#S2.5\n",
    "    for wins in np.arange(4, -1, -1):\n",
    "        poss_teams = np.where(pool_wins == wins)[0]\n",
    "        if len(poss_teams) == 1:\n",
    "            pool_ranks.append(poss_teams[0])\n",
    "            \n",
    "        if len(poss_teams) == 2:\n",
    "            if poss_teams[1] in team_wins[str(poss_teams[0])][0]:\n",
    "                pool_ranks.append(poss_teams[0])\n",
    "                pool_ranks.append(poss_teams[1])\n",
    "            else:\n",
    "                pool_ranks.append(poss_teams[1])\n",
    "                pool_ranks.append(poss_teams[0])\n",
    "                \n",
    "        if len(poss_teams) == 3:\n",
    "            break_order = three_team_tiebreak(poss_teams, team_wins)\n",
    "            for team_break in break_order:\n",
    "                pool_ranks.append(team_break)\n",
    "                        \n",
    "        if len(poss_teams) == 5:\n",
    "            total_diff = [np.sum(team_wins[str(poss_teams[x])][1]) for x in xrange(5)]\n",
    "            for team_num in xrange(5):\n",
    "                for val in xrange(5):\n",
    "                    if poss_teams[val] in team_wins[str(team_num)][0]:\n",
    "                        total_diff[val] -= team_wins[str(team_num)][1][np.where(team_wins[str(team_num)[0]][0] == poss_teams[val])[0]]\n",
    "            total_diff_rank = np.argsort(total_diff)[::-1]\n",
    "            \n",
    "            if len(np.unique(total_diff)) == 5:\n",
    "                    pool_ranks.append(poss_teams[total_diff_rank[0]])\n",
    "                    pool_ranks.append(poss_teams[total_diff_rank[1]])\n",
    "                    pool_ranks.append(poss_teams[total_diff_rank[2]])\n",
    "                    pool_ranks.append(poss_teams[total_diff_rank[3]])\n",
    "                    pool_ranks.append(poss_teams[total_diff_rank[4]])\n",
    "                    \n",
    "            if len(np.unique(total_diff)) == 4:\n",
    "                if list(total_diff).count(np.max(total_diff)) == 1:\n",
    "                    pool_ranks.append(poss_teams[total_diff_rank[0]])\n",
    "                    if list(total_diff).count(np.sort(total_diff)[-2]) == 1:\n",
    "                        pool_ranks.append(poss_teams[total_diff_rank[1]])\n",
    "                        if list(total_diff).count(np.sort(total_diff)[-3]) == 1:\n",
    "                            pool_ranks.append(poss_teams[total_diff_rank[2]])\n",
    "                            if poss_teams[total_diff_rank[4]] in team_wins[str(poss_teams[total_diff_rank[3]])][0]:\n",
    "                                pool_ranks.append(poss_teams[total_diff_rank[3]])\n",
    "                                pool_ranks.append(poss_teams[total_diff_rank[4]])\n",
    "                            else:\n",
    "                                pool_ranks.append(poss_teams[total_diff_rank[4]])\n",
    "                                pool_ranks.append(poss_teams[total_diff_rank[3]])\n",
    "                        else:\n",
    "                            if poss_teams[total_diff_rank[3]] in team_wins[str(poss_teams[total_diff_rank[2]])][0]:\n",
    "                                pool_ranks.append(poss_teams[total_diff_rank[2]])\n",
    "                                pool_ranks.append(poss_teams[total_diff_rank[3]])\n",
    "                            else:\n",
    "                                pool_ranks.append(poss_teams[total_diff_rank[3]])\n",
    "                                pool_ranks.append(poss_teams[total_diff_rank[2]])\n",
    "                            pool_ranks.append(poss_teams[total_diff_rank[4]])\n",
    "                    else:\n",
    "                        if poss_teams[total_diff_rank[2]] in team_wins[str(poss_teams[total_diff_rank[1]])][0]:\n",
    "                            pool_ranks.append(poss_teams[total_diff_rank[1]])\n",
    "                            pool_ranks.append(poss_teams[total_diff_rank[2]])\n",
    "                        else:\n",
    "                            pool_ranks.append(poss_teams[total_diff_rank[2]])\n",
    "                            pool_ranks.append(poss_teams[total_diff_rank[1]])\n",
    "                        pool_ranks.append(poss_teams[total_diff_rank[3]])\n",
    "                        pool_ranks.append(poss_teams[total_diff_rank[4]])\n",
    "                else:\n",
    "                    if poss_teams[total_diff_rank[1]] in team_wins[str(poss_teams[total_diff_rank[0]])][0]:\n",
    "                        pool_ranks.append(poss_teams[total_diff_rank[0]])\n",
    "                        pool_ranks.append(poss_teams[total_diff_rank[1]])\n",
    "                    else:\n",
    "                        pool_ranks.append(poss_teams[total_diff_rank[1]])\n",
    "                        pool_ranks.append(poss_teams[total_diff_rank[0]])\n",
    "                    pool_ranks.append(poss_teams[total_diff_rank[2]])\n",
    "                    pool_ranks.append(poss_teams[total_diff_rank[3]])\n",
    "                    pool_ranks.append(poss_teams[total_diff_rank[4]])\n",
    "            if len(np.unique(total_diff)) == 3:\n",
    "                raise ValueError('test3')\n",
    "                \n",
    "            if len(np.unique(total_diff)) == 2:\n",
    "                raise ValueError('test2')\n",
    "                \n",
    "            if len(np.unique(total_diff)) == 1:\n",
    "                raise ValueError('test1')\n",
    "                        \n",
    "    if len(pool_ranks) != 5:\n",
    "        print pool_ranks\n",
    "        print team_wins\n",
    "        raise ValueError('Not all ranked')\n",
    "                \n",
    "    return pool_wins, pool_ranks"
   ]
  },
  {
   "cell_type": "code",
   "execution_count": 832,
   "metadata": {
    "collapsed": true
   },
   "outputs": [],
   "source": [
    "def pick_winner(rating_1, rating_2):\n",
    "    win_1 = prob_win_game_15points(rating_1, rating_2)\n",
    "    rand_draw = np.random.random()\n",
    "    if rand_draw <= win_1:\n",
    "        winner = 0\n",
    "    else:\n",
    "        winner = 1\n",
    "    return winner"
   ]
  },
  {
   "cell_type": "code",
   "execution_count": 824,
   "metadata": {
    "collapsed": false
   },
   "outputs": [],
   "source": [
    "def add_pool_rank(pool_ranks):\n",
    "    pool_ranks = np.array(pool_ranks)\n",
    "    pool_rank_matrix = np.zeros((5,5))\n",
    "    for x in xrange(5):\n",
    "        pool_rank_matrix[x,np.where(pool_ranks==x)[0]] += 1\n",
    "    return pool_rank_matrix"
   ]
  },
  {
   "cell_type": "code",
   "execution_count": 171,
   "metadata": {
    "collapsed": false
   },
   "outputs": [
    {
     "name": "stdout",
     "output_type": "stream",
     "text": [
      "Pool A teams:\n",
      "Massachusetts (Zoodisc)\n",
      "Georgia (Jojah)\n",
      "Texas A&M (Dozen)\n",
      "Washington (Sundodgers)\n",
      "Cal Poly-SLO (SLOCORE)\n",
      "\n",
      "Pool B teams: \n",
      "Oregon (Ego)\n",
      "North Carolina (Darkside)\n",
      "Colorado (Mamabird)\n",
      "Florida State (DUF)\n",
      "Case Western Reserve (Fighting Gobies[A])\n",
      "\n",
      "Pool C teams: \n",
      "North Carolina-Wilmington (Seamen)\n",
      "Wisconsin (Hodags)\n",
      "Harvard (Red Line)\n",
      "Michigan (MagnUM)\n",
      "Connecticut (UConn Grind)\n",
      "\n",
      "Pool D teams: \n",
      "Minnesota (Grey Duck)\n",
      "Pittsburgh (En Sabah Nur)\n",
      "Carleton College (Carleton College (CUT))\n",
      "Auburn (Aetos)\n",
      "Utah (Zion Curtain)\n"
     ]
    }
   ],
   "source": [
    "#Nationals teams in pools\n",
    "#Pool A\n",
    "pool_a_teams = []\n",
    "print \"Pool A teams:\"\n",
    "for team_rank in [0, 14, 16, 12, 19]:\n",
    "    pool_a_teams.append(teams_dict.keys()[final_rankings[team_rank]])\n",
    "    print teams_dict[pool_a_teams[-1]]\n",
    "\n",
    "pool_b_teams = []\n",
    "print \"\\nPool B teams: \"\n",
    "for team_rank in [6, 4, 13, 24, 39]:\n",
    "    pool_b_teams.append(teams_dict.keys()[final_rankings[team_rank]])\n",
    "    print teams_dict[pool_b_teams[-1]]\n",
    "    \n",
    "pool_c_teams = []\n",
    "print \"\\nPool C teams: \"\n",
    "for team_rank in [8, 2, 10, 21, 41]:\n",
    "    pool_c_teams.append(teams_dict.keys()[final_rankings[team_rank]])\n",
    "    print teams_dict[pool_c_teams[-1]]\n",
    "    \n",
    "pool_d_teams = []\n",
    "print \"\\nPool D teams: \"\n",
    "for team_rank in [1, 3, 11, 23, 46]:\n",
    "    pool_d_teams.append(teams_dict.keys()[final_rankings[team_rank]])\n",
    "    print teams_dict[pool_d_teams[-1]]"
   ]
  },
  {
   "cell_type": "code",
   "execution_count": 898,
   "metadata": {
    "collapsed": false
   },
   "outputs": [
    {
     "name": "stdout",
     "output_type": "stream",
     "text": [
      "Simulation 0 of 10000\n",
      "Simulation 100 of 10000\n",
      "Simulation 200 of 10000\n",
      "Simulation 300 of 10000\n",
      "Simulation 400 of 10000\n",
      "Simulation 500 of 10000\n",
      "Simulation 600 of 10000\n",
      "Simulation 700 of 10000\n",
      "Simulation 800 of 10000\n",
      "Simulation 900 of 10000\n",
      "Simulation 1000 of 10000\n",
      "Simulation 1100 of 10000\n",
      "Simulation 1200 of 10000\n",
      "Simulation 1300 of 10000\n",
      "Simulation 1400 of 10000\n",
      "Simulation 1500 of 10000\n",
      "Simulation 1600 of 10000\n",
      "Simulation 1700 of 10000\n",
      "Simulation 1800 of 10000\n",
      "Simulation 1900 of 10000\n",
      "Simulation 2000 of 10000\n",
      "Simulation 2100 of 10000\n",
      "Simulation 2200 of 10000\n",
      "Simulation 2300 of 10000\n",
      "Simulation 2400 of 10000\n",
      "Simulation 2500 of 10000\n",
      "Simulation 2600 of 10000\n",
      "Simulation 2700 of 10000\n",
      "Simulation 2800 of 10000\n",
      "Simulation 2900 of 10000\n",
      "Simulation 3000 of 10000\n",
      "Simulation 3100 of 10000\n",
      "Simulation 3200 of 10000\n",
      "Simulation 3300 of 10000\n",
      "Simulation 3400 of 10000\n",
      "Simulation 3500 of 10000\n",
      "Simulation 3600 of 10000\n",
      "Simulation 3700 of 10000\n",
      "Simulation 3800 of 10000\n",
      "Simulation 3900 of 10000\n",
      "Simulation 4000 of 10000\n",
      "Simulation 4100 of 10000\n",
      "Simulation 4200 of 10000\n",
      "Simulation 4300 of 10000\n",
      "Simulation 4400 of 10000\n",
      "Simulation 4500 of 10000\n",
      "Simulation 4600 of 10000\n",
      "Simulation 4700 of 10000\n",
      "Simulation 4800 of 10000\n",
      "Simulation 4900 of 10000\n",
      "Simulation 5000 of 10000\n",
      "Simulation 5100 of 10000\n",
      "Simulation 5200 of 10000\n",
      "Simulation 5300 of 10000\n",
      "Simulation 5400 of 10000\n",
      "Simulation 5500 of 10000\n",
      "Simulation 5600 of 10000\n",
      "Simulation 5700 of 10000\n",
      "Simulation 5800 of 10000\n",
      "Simulation 5900 of 10000\n",
      "Simulation 6000 of 10000\n",
      "Simulation 6100 of 10000\n",
      "Simulation 6200 of 10000\n",
      "Simulation 6300 of 10000\n",
      "Simulation 6400 of 10000\n",
      "Simulation 6500 of 10000\n",
      "Simulation 6600 of 10000\n",
      "Simulation 6700 of 10000\n",
      "Simulation 6800 of 10000\n",
      "Simulation 6900 of 10000\n",
      "Simulation 7000 of 10000\n",
      "Simulation 7100 of 10000\n",
      "Simulation 7200 of 10000\n",
      "Simulation 7300 of 10000\n",
      "Simulation 7400 of 10000\n",
      "Simulation 7500 of 10000\n",
      "Simulation 7600 of 10000\n",
      "Simulation 7700 of 10000\n",
      "Simulation 7800 of 10000\n",
      "Simulation 7900 of 10000\n",
      "Simulation 8000 of 10000\n",
      "Simulation 8100 of 10000\n",
      "Simulation 8200 of 10000\n",
      "Simulation 8300 of 10000\n",
      "Simulation 8400 of 10000\n",
      "Simulation 8500 of 10000\n",
      "Simulation 8600 of 10000\n",
      "Simulation 8700 of 10000\n",
      "Simulation 8800 of 10000\n",
      "Simulation 8900 of 10000\n",
      "Simulation 9000 of 10000\n",
      "Simulation 9100 of 10000\n",
      "Simulation 9200 of 10000\n",
      "Simulation 9300 of 10000\n",
      "Simulation 9400 of 10000\n",
      "Simulation 9500 of 10000\n",
      "Simulation 9600 of 10000\n",
      "Simulation 9700 of 10000\n",
      "Simulation 9800 of 10000\n",
      "Simulation 9900 of 10000\n"
     ]
    }
   ],
   "source": [
    "pool_a_totals = np.zeros(5)\n",
    "pool_b_totals = np.zeros(5)\n",
    "pool_c_totals = np.zeros(5)\n",
    "pool_d_totals = np.zeros(5)\n",
    "pool_a_end_rank = np.zeros((5,5))\n",
    "pool_b_end_rank = np.zeros((5,5))\n",
    "pool_c_end_rank = np.zeros((5,5))\n",
    "pool_d_end_rank = np.zeros((5,5))\n",
    "bracket_stats = {}\n",
    "for pool in [pool_a_teams, pool_b_teams, pool_c_teams, pool_d_teams]:\n",
    "    for team_id in pool:\n",
    "        bracket_stats[team_id] = np.zeros(5)\n",
    "total_sims = 10000\n",
    "for i in xrange(total_sims):\n",
    "    if i % 100 == 0:\n",
    "        print \"Simulation %i of %i\" % (i, total_sims)\n",
    "        \n",
    "    #Simulate pool play    \n",
    "    pool_a_wins, pool_a_ranks = pool_play_sim(ratings_dict, pool_a_teams)\n",
    "    pool_a_totals += pool_a_wins\n",
    "    pool_a_end_rank += add_pool_rank(pool_a_ranks)\n",
    "    pool_b_wins, pool_b_ranks = pool_play_sim(ratings_dict, pool_b_teams)\n",
    "    pool_b_totals += pool_b_wins\n",
    "    pool_b_end_rank += add_pool_rank(pool_b_ranks)\n",
    "    pool_c_wins, pool_c_ranks = pool_play_sim(ratings_dict, pool_c_teams)\n",
    "    pool_c_totals += pool_c_wins\n",
    "    pool_c_end_rank += add_pool_rank(pool_c_ranks)\n",
    "    pool_d_wins, pool_d_ranks = pool_play_sim(ratings_dict, pool_d_teams)\n",
    "    pool_d_totals += pool_d_wins\n",
    "    pool_d_end_rank += add_pool_rank(pool_d_ranks)\n",
    "    \n",
    "    #Simulate Bracket\n",
    "    #Pre-Quarters\n",
    "    b2 = pool_b_teams[pool_b_ranks[1]]\n",
    "    c3 = pool_c_teams[pool_c_ranks[2]]\n",
    "    game_1_teams = [b2, c3]\n",
    "    bracket_stats[b2][0] += 1\n",
    "    bracket_stats[c3][0] += 1\n",
    "    game_1_winner = game_1_teams[pick_winner(ratings_dict[game_1_teams[0]], ratings_dict[game_1_teams[1]])]\n",
    "    \n",
    "    c2 = pool_c_teams[pool_c_ranks[1]]\n",
    "    b3 = pool_b_teams[pool_b_ranks[2]]\n",
    "    game_2_teams = [c2, b3]\n",
    "    bracket_stats[c2][0] += 1\n",
    "    bracket_stats[b3][0] += 1\n",
    "    game_2_winner = game_2_teams[pick_winner(ratings_dict[game_2_teams[0]], ratings_dict[game_2_teams[1]])]\n",
    "    \n",
    "    d2 = pool_d_teams[pool_d_ranks[1]]\n",
    "    a3 = pool_a_teams[pool_a_ranks[2]]\n",
    "    game_3_teams = [d2, a3]\n",
    "    bracket_stats[d2][0] += 1\n",
    "    bracket_stats[a3][0] += 1\n",
    "    game_3_winner = game_3_teams[pick_winner(ratings_dict[game_3_teams[0]], ratings_dict[game_3_teams[1]])]\n",
    "    \n",
    "    a2 = pool_a_teams[pool_a_ranks[1]]\n",
    "    d3 = pool_d_teams[pool_d_ranks[2]]\n",
    "    game_4_teams = [a2, d3]\n",
    "    bracket_stats[a2][0] += 1\n",
    "    bracket_stats[d3][0] += 1\n",
    "    game_4_winner = game_4_teams[pick_winner(ratings_dict[game_4_teams[0]], ratings_dict[game_4_teams[1]])]\n",
    "    \n",
    "    #Quarters\n",
    "    q1_1 = game_1_winner\n",
    "    q1_2 = pool_a_teams[pool_a_ranks[0]]\n",
    "    q1_teams = [q1_1, q1_2]\n",
    "    bracket_stats[q1_1][1] += 1\n",
    "    bracket_stats[q1_2][0:2] += 1\n",
    "    q1_winner = q1_teams[pick_winner(ratings_dict[q1_teams[0]], ratings_dict[q1_teams[1]])]\n",
    "\n",
    "    q2_1 = game_2_winner\n",
    "    q2_2 = pool_d_teams[pool_d_ranks[0]]\n",
    "    q2_teams = [q2_1, q2_2]\n",
    "    bracket_stats[q2_1][1] += 1\n",
    "    bracket_stats[q2_2][0:2] += 1\n",
    "    q2_winner = q2_teams[pick_winner(ratings_dict[q2_teams[0]], ratings_dict[q2_teams[1]])]\n",
    "\n",
    "    q3_1 = game_3_winner\n",
    "    q3_2 = pool_c_teams[pool_c_ranks[0]]\n",
    "    q3_teams = [q3_1, q3_2]\n",
    "    bracket_stats[q3_1][1] += 1\n",
    "    bracket_stats[q3_2][0:2] += 1\n",
    "    q3_winner = q3_teams[pick_winner(ratings_dict[q3_teams[0]], ratings_dict[q3_teams[1]])]\n",
    "\n",
    "    q4_1 = game_4_winner\n",
    "    q4_2 = pool_b_teams[pool_b_ranks[0]]\n",
    "    q4_teams = [q4_1, q4_2]\n",
    "    bracket_stats[q4_1][1] += 1\n",
    "    bracket_stats[q4_2][0:2] += 1\n",
    "    q4_winner = q4_teams[pick_winner(ratings_dict[q4_teams[0]], ratings_dict[q4_teams[1]])]\n",
    "    \n",
    "    #Semis\n",
    "    s1_1 = q1_winner\n",
    "    s1_2 = q2_winner\n",
    "    s1_teams = [s1_1, s1_2]\n",
    "    bracket_stats[s1_1][2]+=1\n",
    "    bracket_stats[s1_2][2]+=1\n",
    "    s1_winner = s1_teams[pick_winner(ratings_dict[s1_teams[0]], ratings_dict[s1_teams[1]])]\n",
    "    \n",
    "    s2_1 = q3_winner\n",
    "    s2_2 = q4_winner\n",
    "    s2_teams = [s2_1, s2_2]\n",
    "    bracket_stats[s2_1][2]+=1\n",
    "    bracket_stats[s2_2][2]+=1\n",
    "    s2_winner = s2_teams[pick_winner(ratings_dict[s2_teams[0]], ratings_dict[s2_teams[1]])]\n",
    "    \n",
    "    #Final\n",
    "    f_1 = s1_winner\n",
    "    f_2 = s2_winner\n",
    "    f_teams = [f_1, f_2]\n",
    "    bracket_stats[f_1][3]+=1\n",
    "    bracket_stats[f_2][3]+=1\n",
    "    champ = f_teams[pick_winner(ratings_dict[f_teams[0]], ratings_dict[f_teams[1]])]\n",
    "    bracket_stats[champ][4]+=1"
   ]
  },
  {
   "cell_type": "code",
   "execution_count": 899,
   "metadata": {
    "collapsed": false
   },
   "outputs": [
    {
     "name": "stdout",
     "output_type": "stream",
     "text": [
      "[ 3.5834  1.7457  1.5603  1.8346  1.276 ]\n",
      "[ 2.8434  3.0738  2.0312  1.2926  0.759 ]\n",
      "[ 2.6049  3.2964  2.1191  1.3284  0.6512]\n",
      "[ 3.2648  2.9276  2.0241  1.3069  0.4766]\n"
     ]
    }
   ],
   "source": [
    "print pool_a_totals/10000\n",
    "print pool_b_totals/10000\n",
    "print pool_c_totals/10000\n",
    "print pool_d_totals/10000"
   ]
  },
  {
   "cell_type": "code",
   "execution_count": 900,
   "metadata": {
    "collapsed": false
   },
   "outputs": [
    {
     "name": "stdout",
     "output_type": "stream",
     "text": [
      "[[ 0.812   0.1447  0.0308  0.0095  0.003 ]\n",
      " [ 0.0565  0.2497  0.2661  0.225   0.2027]\n",
      " [ 0.0415  0.2031  0.24    0.2577  0.2577]\n",
      " [ 0.067   0.2692  0.2665  0.2272  0.1701]\n",
      " [ 0.023   0.1333  0.1966  0.2806  0.3665]]\n",
      "[[ 0.3675  0.3603  0.1881  0.0627  0.0214]\n",
      " [ 0.484   0.3204  0.1405  0.0453  0.0098]\n",
      " [ 0.1133  0.2107  0.3661  0.2137  0.0962]\n",
      " [ 0.0284  0.0795  0.2079  0.3888  0.2954]\n",
      " [ 0.0068  0.0291  0.0974  0.2895  0.5772]]\n",
      "[[ 0.242   0.3778  0.2533  0.0965  0.0304]\n",
      " [ 0.6124  0.2647  0.0923  0.0268  0.0038]\n",
      " [ 0.119   0.2513  0.3598  0.195   0.0749]\n",
      " [ 0.0239  0.0838  0.2205  0.412   0.2598]\n",
      " [ 0.0027  0.0224  0.0741  0.2697  0.6311]]\n",
      "[[ 0.5469  0.327   0.0997  0.0236  0.0028]\n",
      " [ 0.3472  0.4113  0.1817  0.0526  0.0072]\n",
      " [ 0.0841  0.1943  0.4415  0.2184  0.0617]\n",
      " [ 0.0208  0.0599  0.2289  0.4695  0.2209]\n",
      " [ 0.001   0.0075  0.0482  0.2359  0.7074]]\n"
     ]
    }
   ],
   "source": [
    "print pool_a_end_rank/10000\n",
    "print pool_b_end_rank/10000\n",
    "print pool_c_end_rank/10000\n",
    "print pool_d_end_rank/10000"
   ]
  },
  {
   "cell_type": "code",
   "execution_count": 901,
   "metadata": {
    "collapsed": false
   },
   "outputs": [
    {
     "name": "stdout",
     "output_type": "stream",
     "text": [
      "Wisconsin (Hodags) [ 0.9694  0.8787  0.5336  0.3243  0.167 ]\n",
      "Massachusetts (Zoodisc) [ 0.9875  0.9607  0.7582  0.5254  0.371 ]\n",
      "Texas A&M (Dozen) [ 0.4846  0.197   0.0552  0.014   0.0024]\n",
      "Case Western Reserve (Fighting Gobies[A]) [ 0.1333  0.0249  0.0023  0.0002  0.    ]\n",
      "North Carolina-Wilmington (Seamen) [ 0.8731  0.6161  0.2484  0.0996  0.0324]\n",
      "Michigan (MagnUM) [  3.28200000e-01   1.16900000e-01   1.50000000e-02   2.10000000e-03\n",
      "   3.00000000e-04]\n",
      "Cal Poly-SLO (SLOCORE) [  3.52900000e-01   1.16800000e-01   2.51000000e-02   5.90000000e-03\n",
      "   1.00000000e-04]\n",
      "Harvard (Red Line) [ 0.7301  0.4079  0.1183  0.0334  0.0078]\n",
      "North Carolina (Darkside) [ 0.9449  0.7873  0.4296  0.202   0.0841]\n",
      "Florida State (DUF) [  3.15800000e-01   1.03100000e-01   1.67000000e-02   2.50000000e-03\n",
      "   1.00000000e-04]\n",
      "Carleton College (Carleton College (CUT)) [ 0.7199  0.399   0.1304  0.0345  0.0064]\n",
      "Oregon (Ego) [ 0.9159  0.6981  0.3377  0.1435  0.05  ]\n",
      "Colorado (Mamabird) [ 0.6901  0.3488  0.099   0.0243  0.0052]\n",
      "Connecticut (UConn Grind) [ 0.0992  0.0182  0.0015  0.0002  0.    ]\n",
      "Minnesota (Grey Duck) [ 0.9736  0.8853  0.5899  0.3218  0.1766]\n",
      "Pittsburgh (En Sabah Nur) [ 0.9402  0.7782  0.4413  0.2105  0.0854]\n",
      "Auburn (Aetos) [  3.09600000e-01   1.10900000e-01   2.05000000e-02   2.60000000e-03\n",
      "   3.00000000e-04]\n",
      "Utah (Zion Curtain) [ 0.0567  0.0086  0.0001  0.      0.    ]\n",
      "Washington (Sundodgers) [ 0.6027  0.2863  0.0962  0.0294  0.0062]\n",
      "Georgia (Jojah) [ 0.5723  0.2572  0.081   0.0238  0.0047]\n"
     ]
    }
   ],
   "source": [
    "for bracket_id in bracket_stats.keys():\n",
    "    print teams_dict[bracket_id], bracket_stats[bracket_id]/10000."
   ]
  },
  {
   "cell_type": "code",
   "execution_count": 908,
   "metadata": {
    "collapsed": false
   },
   "outputs": [],
   "source": [
    "i=1\n",
    "f = open('ratings_2016_reg_season.dat', 'w')\n",
    "for team_id in final_rankings:\n",
    "    f.write(str(teams_dict.values()[team_id].encode('UTF-8') + ',' + str(ratings_dict.values()[team_id]) + '\\n'))\n",
    "    i+=1\n",
    "f.close()"
   ]
  },
  {
   "cell_type": "code",
   "execution_count": 922,
   "metadata": {
    "collapsed": false
   },
   "outputs": [],
   "source": [
    "f = open('bracket_stats_2016.dat', 'w')\n",
    "pool_names = ['Pool_A', 'Pool_B', 'Pool_C', 'Pool_D']\n",
    "pool_lists = [pool_a_teams, pool_b_teams, pool_c_teams, pool_d_teams]\n",
    "for pool_name, pool_list in zip(pool_names, pool_lists):\n",
    "    f.write(str('#'+pool_name+'\\n'))\n",
    "    for pool_tm in pool_list:\n",
    "        f.write(str(teams_dict[pool_tm].encode('UTF-8') + ',%.4f,%.4f,%.4f,%.4f,%.4f\\n') % (bracket_stats[pool_tm][0]/10000,\n",
    "                                                                                        bracket_stats[pool_tm][1]/10000,\n",
    "                                                                                        bracket_stats[pool_tm][2]/10000,\n",
    "                                                                                        bracket_stats[pool_tm][3]/10000,\n",
    "                                                                                        bracket_stats[pool_tm][4]/10000))\n",
    "f.close()"
   ]
  },
  {
   "cell_type": "code",
   "execution_count": 942,
   "metadata": {
    "collapsed": false
   },
   "outputs": [],
   "source": [
    "f = open('pool_placement_2016.dat', 'w')\n",
    "pool_names = ['Pool_A', 'Pool_B', 'Pool_C', 'Pool_D']\n",
    "pool_lists = [pool_a_teams, pool_b_teams, pool_c_teams, pool_d_teams]\n",
    "pool_rank_lists = [pool_a_end_rank, pool_b_end_rank, pool_c_end_rank, pool_d_end_rank]\n",
    "for pool_name, pool_list, pool_rank_list in zip(pool_names, pool_lists, pool_rank_lists):\n",
    "    f.write(str('#'+pool_name+'\\n'))\n",
    "    i = 0\n",
    "    for pool_tm in pool_list:\n",
    "        f.write(str(teams_dict[pool_tm].encode('UTF-8') + ',%.4f,%.4f,%.4f,%.4f,%.4f\\n') % (pool_rank_list[i][0]/10000,\n",
    "                                                                                        pool_rank_list[i][1]/10000,\n",
    "                                                                                        pool_rank_list[i][2]/10000,\n",
    "                                                                                        pool_rank_list[i][3]/10000,\n",
    "                                                                                        pool_rank_list[i][4]/10000))\n",
    "        i+=1\n",
    "f.close()"
   ]
  },
  {
   "cell_type": "code",
   "execution_count": 947,
   "metadata": {
    "collapsed": false
   },
   "outputs": [],
   "source": [
    "f = open('pool_wins_2016.dat', 'w')\n",
    "pool_names = ['Pool_A', 'Pool_B', 'Pool_C', 'Pool_D']\n",
    "pool_lists = [pool_a_teams, pool_b_teams, pool_c_teams, pool_d_teams]\n",
    "pool_rank_lists = [pool_a_totals, pool_b_totals, pool_c_totals, pool_d_totals]\n",
    "for pool_name, pool_list, pool_rank_list in zip(pool_names, pool_lists, pool_rank_lists):\n",
    "    f.write(str('#'+pool_name+'\\n'))\n",
    "    i = 0\n",
    "    for pool_tm in pool_list:\n",
    "        f.write(str(teams_dict[pool_tm].encode('UTF-8') + ',%.4f\\n') % (pool_rank_list[i]/10000))\n",
    "        i+=1\n",
    "f.close()"
   ]
  },
  {
   "cell_type": "code",
   "execution_count": 948,
   "metadata": {
    "collapsed": false
   },
   "outputs": [
    {
     "data": {
      "text/plain": [
       "array([('Massachusetts (Zoodisc)', 3.5834), ('Georgia (Jojah)', 1.7457),\n",
       "       ('Texas A&M (Dozen)', 1.5603), ('Washington (Sundodgers)', 1.8346),\n",
       "       ('Cal Poly-SLO (SLOCORE)', 1.276), ('Oregon (Ego)', 2.8434),\n",
       "       ('North Carolina (Darkside)', 3.0738),\n",
       "       ('Colorado (Mamabird)', 2.0312), ('Florida State (DUF)', 1.2926),\n",
       "       ('Case Western Reserve (Fighting Gobies[A])', 0.759),\n",
       "       ('North Carolina-Wilmington (Seamen)', 2.6049),\n",
       "       ('Wisconsin (Hodags)', 3.2964), ('Harvard (Red Line)', 2.1191),\n",
       "       ('Michigan (MagnUM)', 1.3284),\n",
       "       ('Connecticut (UConn Grind)', 0.6512),\n",
       "       ('Minnesota (Grey Duck)', 3.2648),\n",
       "       ('Pittsburgh (En Sabah Nur)', 2.9276),\n",
       "       ('Carleton College (Carleton College (CUT))', 2.0241),\n",
       "       ('Auburn (Aetos)', 1.3069), ('Utah (Zion Curtain)', 0.4766)], \n",
       "      dtype=[('f0', 'S41'), ('f1', '<f8')])"
      ]
     },
     "execution_count": 948,
     "metadata": {},
     "output_type": "execute_result"
    }
   ],
   "source": [
    "np.genfromtxt('pool_wins_2016.dat', delimiter=',', dtype=None)"
   ]
  },
  {
   "cell_type": "code",
   "execution_count": null,
   "metadata": {
    "collapsed": true
   },
   "outputs": [],
   "source": []
  }
 ],
 "metadata": {
  "kernelspec": {
   "display_name": "Python 2",
   "language": "python",
   "name": "python2"
  },
  "language_info": {
   "codemirror_mode": {
    "name": "ipython",
    "version": 2
   },
   "file_extension": ".py",
   "mimetype": "text/x-python",
   "name": "python",
   "nbconvert_exporter": "python",
   "pygments_lexer": "ipython2",
   "version": "2.7.11"
  }
 },
 "nbformat": 4,
 "nbformat_minor": 0
}
